{
 "cells": [
  {
   "cell_type": "code",
   "execution_count": 1,
   "metadata": {},
   "outputs": [
    {
     "name": "stderr",
     "output_type": "stream",
     "text": [
      "python: can't open file 'c:\\\\Users\\\\V61XNRQ\\\\Desktop\\\\Personal\\\\git-projects\\\\hcaptcha-solver\\\\testing\\\\setup.py': [Errno 2] No such file or directory\n"
     ]
    }
   ],
   "source": [
    "!python setup.py sdist bdist_wheel"
   ]
  },
  {
   "cell_type": "code",
   "execution_count": null,
   "metadata": {},
   "outputs": [],
   "source": [
    "\n",
    "!pip install ../dist/hcaptcha_solver-0.2.11-py2.py3-none-any.whl"
   ]
  },
  {
   "cell_type": "code",
   "execution_count": 15,
   "metadata": {},
   "outputs": [
    {
     "data": {
      "text/plain": [
       "['__builtins__',\n",
       " '__cached__',\n",
       " '__doc__',\n",
       " '__file__',\n",
       " '__loader__',\n",
       " '__name__',\n",
       " '__package__',\n",
       " '__path__',\n",
       " '__spec__',\n",
       " 'hcaptcha_solver',\n",
       " 'model_handler',\n",
       " 'webdriver_handler']"
      ]
     },
     "execution_count": 15,
     "metadata": {},
     "output_type": "execute_result"
    }
   ],
   "source": [
    "import hcaptcha_solver\n",
    "dir(hcaptcha_solver)"
   ]
  },
  {
   "cell_type": "code",
   "execution_count": 13,
   "metadata": {},
   "outputs": [
    {
     "name": "stdout",
     "output_type": "stream",
     "text": [
      "Initializing model handler...\n"
     ]
    },
    {
     "ename": "FileNotFoundError",
     "evalue": "[WinError 3] Das System kann den angegebenen Pfad nicht finden: 'c:\\\\Users\\\\V61XNRQ\\\\AppData\\\\Local\\\\Programs\\\\Python\\\\Python311\\\\Lib\\\\site-packages\\\\hcaptcha_solver\\\\models/'",
     "output_type": "error",
     "traceback": [
      "\u001b[1;31m---------------------------------------------------------------------------\u001b[0m",
      "\u001b[1;31mFileNotFoundError\u001b[0m                         Traceback (most recent call last)",
      "Cell \u001b[1;32mIn[13], line 5\u001b[0m\n\u001b[0;32m      2\u001b[0m \u001b[39mfrom\u001b[39;00m \u001b[39mselenium\u001b[39;00m \u001b[39mimport\u001b[39;00m webdriver\n\u001b[0;32m      4\u001b[0m \u001b[39m# create Captcha_Solver object to load ML models\u001b[39;00m\n\u001b[1;32m----> 5\u001b[0m captcha_solver \u001b[39m=\u001b[39m hcaptcha_solver\u001b[39m.\u001b[39;49mCaptcha_Solver()\n\u001b[0;32m      7\u001b[0m \u001b[39m# create webdriver and access website with hCaptcha\u001b[39;00m\n\u001b[0;32m      8\u001b[0m options \u001b[39m=\u001b[39m webdriver\u001b[39m.\u001b[39mChromeOptions()\n",
      "File \u001b[1;32mc:\\Users\\V61XNRQ\\AppData\\Local\\Programs\\Python\\Python311\\Lib\\site-packages\\hcaptcha_solver\\hcaptcha_solver.py:15\u001b[0m, in \u001b[0;36mCaptcha_Solver.__init__\u001b[1;34m(self)\u001b[0m\n\u001b[0;32m     14\u001b[0m \u001b[39mdef\u001b[39;00m \u001b[39m__init__\u001b[39m(\u001b[39mself\u001b[39m):\n\u001b[1;32m---> 15\u001b[0m     \u001b[39mself\u001b[39m\u001b[39m.\u001b[39mmodels \u001b[39m=\u001b[39m mh\u001b[39m.\u001b[39;49mModel_Handler()\n",
      "File \u001b[1;32mc:\\Users\\V61XNRQ\\AppData\\Local\\Programs\\Python\\Python311\\Lib\\site-packages\\hcaptcha_solver\\model_handler.py:27\u001b[0m, in \u001b[0;36mModel_Handler.__init__\u001b[1;34m(self)\u001b[0m\n\u001b[0;32m     25\u001b[0m \u001b[39mprint\u001b[39m(\u001b[39m\"\u001b[39m\u001b[39mInitializing model handler...\u001b[39m\u001b[39m\"\u001b[39m)\n\u001b[0;32m     26\u001b[0m \u001b[39mself\u001b[39m\u001b[39m.\u001b[39mmodels \u001b[39m=\u001b[39m {}\n\u001b[1;32m---> 27\u001b[0m \u001b[39mfor\u001b[39;00m model_name \u001b[39min\u001b[39;00m os\u001b[39m.\u001b[39mlistdir(MODELS_DIR):\n\u001b[0;32m     28\u001b[0m     \u001b[39mtry\u001b[39;00m:\n\u001b[0;32m     29\u001b[0m         \u001b[39mself\u001b[39m\u001b[39m.\u001b[39mmodels[model_name] \u001b[39m=\u001b[39m Model(model_name)\n",
      "\u001b[1;31mFileNotFoundError\u001b[0m: [WinError 3] Das System kann den angegebenen Pfad nicht finden: 'c:\\\\Users\\\\V61XNRQ\\\\AppData\\\\Local\\\\Programs\\\\Python\\\\Python311\\\\Lib\\\\site-packages\\\\hcaptcha_solver\\\\models/'"
     ]
    }
   ],
   "source": [
    "from hcaptcha_solver import hcaptcha_solver\n",
    "from selenium import webdriver\n",
    "\n",
    "# create Captcha_Solver object to load ML models\n",
    "captcha_solver = hcaptcha_solver.Captcha_Solver()\n",
    "\n",
    "# create webdriver and access website with hCaptcha\n",
    "options = webdriver.ChromeOptions()\n",
    "options.add_experimental_option('prefs', {'intl.accept_languages': 'en,en_US'})\n",
    "driver = webdriver.Chrome(options=options)\n",
    "driver.get(\"https://accounts.hcaptcha.com/demo\")\n",
    "\n",
    "\n",
    "# check for hCaptcha\n",
    "captcha_solver.is_captcha_present(driver)\n",
    "\n",
    "# solve hCaptcha\n",
    "captcha_solver.solve_captcha(driver)\n"
   ]
  }
 ],
 "metadata": {
  "kernelspec": {
   "display_name": "Python 3",
   "language": "python",
   "name": "python3"
  },
  "language_info": {
   "codemirror_mode": {
    "name": "ipython",
    "version": 3
   },
   "file_extension": ".py",
   "mimetype": "text/x-python",
   "name": "python",
   "nbconvert_exporter": "python",
   "pygments_lexer": "ipython3",
   "version": "3.11.3"
  },
  "orig_nbformat": 4
 },
 "nbformat": 4,
 "nbformat_minor": 2
}
