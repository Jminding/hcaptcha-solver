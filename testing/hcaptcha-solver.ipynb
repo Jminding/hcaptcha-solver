{
 "cells": [
  {
   "cell_type": "code",
   "execution_count": 1,
   "metadata": {},
   "outputs": [
    {
     "name": "stdout",
     "output_type": "stream",
     "text": [
      "Processing c:\\users\\v61xnrq\\desktop\\personal\\git-projects\\hcaptcha-solver\\dist\\hcaptcha_solver-0.2.12-py2.py3-none-any.whl\n",
      "Requirement already satisfied: matplotlib in c:\\users\\v61xnrq\\appdata\\local\\programs\\python\\python311\\lib\\site-packages (from hcaptcha-solver==0.2.12) (3.7.1)\n",
      "Requirement already satisfied: numpy in c:\\users\\v61xnrq\\appdata\\local\\programs\\python\\python311\\lib\\site-packages (from hcaptcha-solver==0.2.12) (1.25.2)\n",
      "Requirement already satisfied: pillow in c:\\users\\v61xnrq\\appdata\\local\\programs\\python\\python311\\lib\\site-packages (from hcaptcha-solver==0.2.12) (10.0.0)\n",
      "Requirement already satisfied: requests in c:\\users\\v61xnrq\\appdata\\local\\programs\\python\\python311\\lib\\site-packages (from hcaptcha-solver==0.2.12) (2.31.0)\n",
      "Requirement already satisfied: selenium in c:\\users\\v61xnrq\\appdata\\local\\programs\\python\\python311\\lib\\site-packages (from hcaptcha-solver==0.2.12) (4.10.0)\n",
      "Requirement already satisfied: torch in c:\\users\\v61xnrq\\appdata\\local\\programs\\python\\python311\\lib\\site-packages (from hcaptcha-solver==0.2.12) (2.0.1)\n",
      "Requirement already satisfied: unidecode in c:\\users\\v61xnrq\\appdata\\local\\programs\\python\\python311\\lib\\site-packages (from hcaptcha-solver==0.2.12) (1.3.6)\n",
      "Requirement already satisfied: contourpy>=1.0.1 in c:\\users\\v61xnrq\\appdata\\local\\programs\\python\\python311\\lib\\site-packages (from matplotlib->hcaptcha-solver==0.2.12) (1.0.7)\n",
      "Requirement already satisfied: cycler>=0.10 in c:\\users\\v61xnrq\\appdata\\local\\programs\\python\\python311\\lib\\site-packages (from matplotlib->hcaptcha-solver==0.2.12) (0.11.0)\n",
      "Requirement already satisfied: fonttools>=4.22.0 in c:\\users\\v61xnrq\\appdata\\local\\programs\\python\\python311\\lib\\site-packages (from matplotlib->hcaptcha-solver==0.2.12) (4.39.4)\n",
      "Requirement already satisfied: kiwisolver>=1.0.1 in c:\\users\\v61xnrq\\appdata\\local\\programs\\python\\python311\\lib\\site-packages (from matplotlib->hcaptcha-solver==0.2.12) (1.4.4)\n",
      "Requirement already satisfied: packaging>=20.0 in c:\\users\\v61xnrq\\appdata\\local\\programs\\python\\python311\\lib\\site-packages (from matplotlib->hcaptcha-solver==0.2.12) (23.1)\n",
      "Requirement already satisfied: pyparsing>=2.3.1 in c:\\users\\v61xnrq\\appdata\\local\\programs\\python\\python311\\lib\\site-packages (from matplotlib->hcaptcha-solver==0.2.12) (3.0.9)\n",
      "Requirement already satisfied: python-dateutil>=2.7 in c:\\users\\v61xnrq\\appdata\\local\\programs\\python\\python311\\lib\\site-packages (from matplotlib->hcaptcha-solver==0.2.12) (2.8.2)\n",
      "Requirement already satisfied: charset-normalizer<4,>=2 in c:\\users\\v61xnrq\\appdata\\local\\programs\\python\\python311\\lib\\site-packages (from requests->hcaptcha-solver==0.2.12) (3.1.0)\n",
      "Requirement already satisfied: idna<4,>=2.5 in c:\\users\\v61xnrq\\appdata\\local\\programs\\python\\python311\\lib\\site-packages (from requests->hcaptcha-solver==0.2.12) (3.4)\n",
      "Requirement already satisfied: urllib3<3,>=1.21.1 in c:\\users\\v61xnrq\\appdata\\local\\programs\\python\\python311\\lib\\site-packages (from requests->hcaptcha-solver==0.2.12) (2.0.4)\n",
      "Requirement already satisfied: certifi>=2017.4.17 in c:\\users\\v61xnrq\\appdata\\local\\programs\\python\\python311\\lib\\site-packages (from requests->hcaptcha-solver==0.2.12) (2023.5.7)\n",
      "Requirement already satisfied: trio~=0.17 in c:\\users\\v61xnrq\\appdata\\local\\programs\\python\\python311\\lib\\site-packages (from selenium->hcaptcha-solver==0.2.12) (0.22.0)\n",
      "Requirement already satisfied: trio-websocket~=0.9 in c:\\users\\v61xnrq\\appdata\\local\\programs\\python\\python311\\lib\\site-packages (from selenium->hcaptcha-solver==0.2.12) (0.10.3)\n",
      "Requirement already satisfied: filelock in c:\\users\\v61xnrq\\appdata\\local\\programs\\python\\python311\\lib\\site-packages (from torch->hcaptcha-solver==0.2.12) (3.12.2)\n",
      "Requirement already satisfied: typing-extensions in c:\\users\\v61xnrq\\appdata\\local\\programs\\python\\python311\\lib\\site-packages (from torch->hcaptcha-solver==0.2.12) (4.7.1)\n",
      "Requirement already satisfied: sympy in c:\\users\\v61xnrq\\appdata\\local\\programs\\python\\python311\\lib\\site-packages (from torch->hcaptcha-solver==0.2.12) (1.12)\n",
      "Requirement already satisfied: networkx in c:\\users\\v61xnrq\\appdata\\local\\programs\\python\\python311\\lib\\site-packages (from torch->hcaptcha-solver==0.2.12) (3.1)\n",
      "Requirement already satisfied: jinja2 in c:\\users\\v61xnrq\\appdata\\local\\programs\\python\\python311\\lib\\site-packages (from torch->hcaptcha-solver==0.2.12) (3.1.2)\n",
      "Requirement already satisfied: six>=1.5 in c:\\users\\v61xnrq\\appdata\\local\\programs\\python\\python311\\lib\\site-packages (from python-dateutil>=2.7->matplotlib->hcaptcha-solver==0.2.12) (1.16.0)\n",
      "Requirement already satisfied: attrs>=19.2.0 in c:\\users\\v61xnrq\\appdata\\local\\programs\\python\\python311\\lib\\site-packages (from trio~=0.17->selenium->hcaptcha-solver==0.2.12) (23.1.0)\n",
      "Requirement already satisfied: sortedcontainers in c:\\users\\v61xnrq\\appdata\\local\\programs\\python\\python311\\lib\\site-packages (from trio~=0.17->selenium->hcaptcha-solver==0.2.12) (2.4.0)\n",
      "Requirement already satisfied: async-generator>=1.9 in c:\\users\\v61xnrq\\appdata\\local\\programs\\python\\python311\\lib\\site-packages (from trio~=0.17->selenium->hcaptcha-solver==0.2.12) (1.10)\n",
      "Requirement already satisfied: outcome in c:\\users\\v61xnrq\\appdata\\local\\programs\\python\\python311\\lib\\site-packages (from trio~=0.17->selenium->hcaptcha-solver==0.2.12) (1.2.0)\n",
      "Requirement already satisfied: sniffio in c:\\users\\v61xnrq\\appdata\\local\\programs\\python\\python311\\lib\\site-packages (from trio~=0.17->selenium->hcaptcha-solver==0.2.12) (1.3.0)\n",
      "Requirement already satisfied: cffi>=1.14 in c:\\users\\v61xnrq\\appdata\\local\\programs\\python\\python311\\lib\\site-packages (from trio~=0.17->selenium->hcaptcha-solver==0.2.12) (1.15.1)\n",
      "Requirement already satisfied: exceptiongroup in c:\\users\\v61xnrq\\appdata\\local\\programs\\python\\python311\\lib\\site-packages (from trio-websocket~=0.9->selenium->hcaptcha-solver==0.2.12) (1.1.1)\n",
      "Requirement already satisfied: wsproto>=0.14 in c:\\users\\v61xnrq\\appdata\\local\\programs\\python\\python311\\lib\\site-packages (from trio-websocket~=0.9->selenium->hcaptcha-solver==0.2.12) (1.2.0)\n",
      "Requirement already satisfied: pysocks!=1.5.7,<2.0,>=1.5.6 in c:\\users\\v61xnrq\\appdata\\local\\programs\\python\\python311\\lib\\site-packages (from urllib3<3,>=1.21.1->requests->hcaptcha-solver==0.2.12) (1.7.1)\n",
      "Requirement already satisfied: MarkupSafe>=2.0 in c:\\users\\v61xnrq\\appdata\\local\\programs\\python\\python311\\lib\\site-packages (from jinja2->torch->hcaptcha-solver==0.2.12) (2.1.2)\n",
      "Requirement already satisfied: mpmath>=0.19 in c:\\users\\v61xnrq\\appdata\\local\\programs\\python\\python311\\lib\\site-packages (from sympy->torch->hcaptcha-solver==0.2.12) (1.3.0)\n",
      "Requirement already satisfied: pycparser in c:\\users\\v61xnrq\\appdata\\local\\programs\\python\\python311\\lib\\site-packages (from cffi>=1.14->trio~=0.17->selenium->hcaptcha-solver==0.2.12) (2.21)\n",
      "Requirement already satisfied: h11<1,>=0.9.0 in c:\\users\\v61xnrq\\appdata\\local\\programs\\python\\python311\\lib\\site-packages (from wsproto>=0.14->trio-websocket~=0.9->selenium->hcaptcha-solver==0.2.12) (0.14.0)\n",
      "hcaptcha-solver is already installed with the same version as the provided wheel. Use --force-reinstall to force an installation of the wheel.\n"
     ]
    }
   ],
   "source": [
    "!pip install ../dist/hcaptcha_solver-0.2.12-py2.py3-none-any.whl"
   ]
  },
  {
   "cell_type": "code",
   "execution_count": 2,
   "metadata": {},
   "outputs": [
    {
     "data": {
      "text/plain": [
       "['__builtins__',\n",
       " '__cached__',\n",
       " '__doc__',\n",
       " '__file__',\n",
       " '__loader__',\n",
       " '__name__',\n",
       " '__package__',\n",
       " '__path__',\n",
       " '__spec__']"
      ]
     },
     "execution_count": 2,
     "metadata": {},
     "output_type": "execute_result"
    }
   ],
   "source": [
    "import hcaptcha_solver\n",
    "dir(hcaptcha_solver)"
   ]
  },
  {
   "cell_type": "code",
   "execution_count": 3,
   "metadata": {},
   "outputs": [
    {
     "name": "stdout",
     "output_type": "stream",
     "text": [
      "Initializing model handler...\n",
      "Loaded 10 models\n"
     ]
    }
   ],
   "source": [
    "from hcaptcha_solver import hcaptcha_solver\n",
    "from selenium import webdriver\n",
    "\n",
    "# create Captcha_Solver object to load ML models\n",
    "captcha_solver = hcaptcha_solver.Captcha_Solver()\n",
    "\n",
    "# create webdriver and access website with hCaptcha\n",
    "options = webdriver.ChromeOptions()\n",
    "options.add_experimental_option('prefs', {'intl.accept_languages': 'en,en_US'})\n",
    "driver = webdriver.Chrome(options=options)\n",
    "driver.get(\"https://accounts.hcaptcha.com/demo\")\n",
    "\n"
   ]
  },
  {
   "cell_type": "code",
   "execution_count": 5,
   "metadata": {},
   "outputs": [
    {
     "ename": "AttributeError",
     "evalue": "'Captcha_Solver' object has no attribute 'is_challenge_present'",
     "output_type": "error",
     "traceback": [
      "\u001b[1;31m---------------------------------------------------------------------------\u001b[0m",
      "\u001b[1;31mAttributeError\u001b[0m                            Traceback (most recent call last)",
      "Cell \u001b[1;32mIn[5], line 2\u001b[0m\n\u001b[0;32m      1\u001b[0m \u001b[39m# check for hCaptcha\u001b[39;00m\n\u001b[1;32m----> 2\u001b[0m captcha_solver\u001b[39m.\u001b[39;49mis_challenge_present(driver)\n",
      "\u001b[1;31mAttributeError\u001b[0m: 'Captcha_Solver' object has no attribute 'is_challenge_present'"
     ]
    }
   ],
   "source": [
    "\n",
    "# check for hCaptcha\n",
    "captcha_solver.is_challenge_present(driver)\n"
   ]
  },
  {
   "cell_type": "code",
   "execution_count": null,
   "metadata": {},
   "outputs": [],
   "source": [
    "\n",
    "# solve hCaptcha\n",
    "captcha_solver.solve_captcha(driver)\n"
   ]
  }
 ],
 "metadata": {
  "kernelspec": {
   "display_name": "Python 3",
   "language": "python",
   "name": "python3"
  },
  "language_info": {
   "codemirror_mode": {
    "name": "ipython",
    "version": 3
   },
   "file_extension": ".py",
   "mimetype": "text/x-python",
   "name": "python",
   "nbconvert_exporter": "python",
   "pygments_lexer": "ipython3",
   "version": "3.11.3"
  },
  "orig_nbformat": 4
 },
 "nbformat": 4,
 "nbformat_minor": 2
}
