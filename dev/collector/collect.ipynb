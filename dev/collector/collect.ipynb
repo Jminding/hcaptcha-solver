{
 "cells": [
  {
   "cell_type": "code",
   "execution_count": 1,
   "metadata": {},
   "outputs": [
    {
     "ename": "OperationalError",
     "evalue": "unable to open database file",
     "output_type": "error",
     "traceback": [
      "\u001b[1;31m---------------------------------------------------------------------------\u001b[0m",
      "\u001b[1;31mOperationalError\u001b[0m                          Traceback (most recent call last)",
      "Cell \u001b[1;32mIn[1], line 7\u001b[0m\n\u001b[0;32m      4\u001b[0m sys\u001b[39m.\u001b[39mpath\u001b[39m.\u001b[39mappend(\u001b[39m'\u001b[39m\u001b[39m..\u001b[39m\u001b[39m'\u001b[39m)\n\u001b[0;32m      5\u001b[0m \u001b[39mimport\u001b[39;00m \u001b[39msqlite_execution\u001b[39;00m\n\u001b[1;32m----> 7\u001b[0m db1 \u001b[39m=\u001b[39m sqlite_execution\u001b[39m.\u001b[39;49mDB_V1()\n\u001b[0;32m      8\u001b[0m collect_data(db1, \u001b[39m\"\u001b[39m\u001b[39mhttps://accounts.hcaptcha.com/demo\u001b[39m\u001b[39m\"\u001b[39m, count\u001b[39m=\u001b[39m\u001b[39m1000\u001b[39m, collect_v2\u001b[39m=\u001b[39m\u001b[39mTrue\u001b[39;00m, limit\u001b[39m=\u001b[39m\u001b[39m2000\u001b[39m)\n",
      "File \u001b[1;32mc:\\Users\\V61XNRQ\\Desktop\\PERS\\hcaptcha-solver\\dev\\collector\\..\\sqlite_execution.py:21\u001b[0m, in \u001b[0;36mDB_V1.__init__\u001b[1;34m(self, name, dir_prefix)\u001b[0m\n\u001b[0;32m     19\u001b[0m \u001b[39mdef\u001b[39;00m \u001b[39m__init__\u001b[39m(\u001b[39mself\u001b[39m, name\u001b[39m=\u001b[39m\u001b[39m\"\u001b[39m\u001b[39mcaptchas\u001b[39m\u001b[39m\"\u001b[39m, dir_prefix\u001b[39m=\u001b[39m\u001b[39m\"\u001b[39m\u001b[39m\"\u001b[39m):\n\u001b[0;32m     20\u001b[0m     \u001b[39mself\u001b[39m\u001b[39m.\u001b[39mdir_prefix \u001b[39m=\u001b[39m dir_prefix\n\u001b[1;32m---> 21\u001b[0m     \u001b[39mself\u001b[39m\u001b[39m.\u001b[39mcon \u001b[39m=\u001b[39m sqlite3\u001b[39m.\u001b[39;49mconnect(\u001b[39mf\u001b[39;49m\u001b[39m\"\u001b[39;49m\u001b[39m{\u001b[39;49;00mdir_prefix\u001b[39m}\u001b[39;49;00m\u001b[39m{\u001b[39;49;00mDATABASES_DIR\u001b[39m}\u001b[39;49;00m\u001b[39m/\u001b[39;49m\u001b[39m{\u001b[39;49;00mname\u001b[39m}\u001b[39;49;00m\u001b[39m.db\u001b[39;49m\u001b[39m\"\u001b[39;49m, check_same_thread\u001b[39m=\u001b[39;49m\u001b[39mFalse\u001b[39;49;00m)\n\u001b[0;32m     22\u001b[0m     \u001b[39mself\u001b[39m\u001b[39m.\u001b[39mcur \u001b[39m=\u001b[39m \u001b[39mself\u001b[39m\u001b[39m.\u001b[39mcon\u001b[39m.\u001b[39mcursor()\n\u001b[0;32m     23\u001b[0m     \u001b[39mself\u001b[39m\u001b[39m.\u001b[39mcaptchas_table_name \u001b[39m=\u001b[39m \u001b[39mself\u001b[39m\u001b[39m.\u001b[39mcreate_captchas_table()\n",
      "\u001b[1;31mOperationalError\u001b[0m: unable to open database file"
     ]
    }
   ],
   "source": [
    "import sys\n",
    "import collector\n",
    "\n",
    "sys.path.append('..')\n",
    "import sqlite_execution\n",
    "\n",
    "db1 = sqlite_execution.DB_V1()\n",
    "collect_data(db1, \"https://accounts.hcaptcha.com/demo\", count=1000, collect_v2=True, limit=2000)"
   ]
  }
 ],
 "metadata": {
  "kernelspec": {
   "display_name": "Python 3",
   "language": "python",
   "name": "python3"
  },
  "language_info": {
   "codemirror_mode": {
    "name": "ipython",
    "version": 3
   },
   "file_extension": ".py",
   "mimetype": "text/x-python",
   "name": "python",
   "nbconvert_exporter": "python",
   "pygments_lexer": "ipython3",
   "version": "3.11.4"
  },
  "orig_nbformat": 4
 },
 "nbformat": 4,
 "nbformat_minor": 2
}
