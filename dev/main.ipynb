{
 "cells": [
  {
   "cell_type": "code",
   "execution_count": 5,
   "metadata": {},
   "outputs": [],
   "source": [
    "import pandas as pd\n",
    "import numpy as np\n",
    "import os"
   ]
  },
  {
   "cell_type": "code",
   "execution_count": 6,
   "metadata": {},
   "outputs": [
    {
     "data": {
      "text/html": [
       "<div>\n",
       "<style scoped>\n",
       "    .dataframe tbody tr th:only-of-type {\n",
       "        vertical-align: middle;\n",
       "    }\n",
       "\n",
       "    .dataframe tbody tr th {\n",
       "        vertical-align: top;\n",
       "    }\n",
       "\n",
       "    .dataframe thead th {\n",
       "        text-align: right;\n",
       "    }\n",
       "</style>\n",
       "<table border=\"1\" class=\"dataframe\">\n",
       "  <thead>\n",
       "    <tr style=\"text-align: right;\">\n",
       "      <th></th>\n",
       "      <th>total</th>\n",
       "      <th>solved</th>\n",
       "      <th>unsolved</th>\n",
       "    </tr>\n",
       "  </thead>\n",
       "  <tbody>\n",
       "    <tr>\n",
       "      <th>bonsai tree</th>\n",
       "      <td>1568</td>\n",
       "      <td>642</td>\n",
       "      <td>926</td>\n",
       "    </tr>\n",
       "    <tr>\n",
       "      <th>flower</th>\n",
       "      <td>1670</td>\n",
       "      <td>500</td>\n",
       "      <td>1170</td>\n",
       "    </tr>\n",
       "    <tr>\n",
       "      <th>car</th>\n",
       "      <td>1493</td>\n",
       "      <td>359</td>\n",
       "      <td>1134</td>\n",
       "    </tr>\n",
       "    <tr>\n",
       "      <th>motorcycle</th>\n",
       "      <td>1335</td>\n",
       "      <td>309</td>\n",
       "      <td>1026</td>\n",
       "    </tr>\n",
       "    <tr>\n",
       "      <th>laptop</th>\n",
       "      <td>1120</td>\n",
       "      <td>303</td>\n",
       "      <td>817</td>\n",
       "    </tr>\n",
       "    <tr>\n",
       "      <th>tree</th>\n",
       "      <td>393</td>\n",
       "      <td>294</td>\n",
       "      <td>99</td>\n",
       "    </tr>\n",
       "    <tr>\n",
       "      <th>helicopter</th>\n",
       "      <td>242</td>\n",
       "      <td>242</td>\n",
       "      <td>0</td>\n",
       "    </tr>\n",
       "    <tr>\n",
       "      <th>cup of orange juice</th>\n",
       "      <td>166</td>\n",
       "      <td>166</td>\n",
       "      <td>0</td>\n",
       "    </tr>\n",
       "    <tr>\n",
       "      <th>goose</th>\n",
       "      <td>56</td>\n",
       "      <td>42</td>\n",
       "      <td>14</td>\n",
       "    </tr>\n",
       "    <tr>\n",
       "      <th>cat</th>\n",
       "      <td>9</td>\n",
       "      <td>0</td>\n",
       "      <td>9</td>\n",
       "    </tr>\n",
       "    <tr>\n",
       "      <th>crumpled paper ball</th>\n",
       "      <td>9</td>\n",
       "      <td>0</td>\n",
       "      <td>9</td>\n",
       "    </tr>\n",
       "    <tr>\n",
       "      <th>robot</th>\n",
       "      <td>88</td>\n",
       "      <td>0</td>\n",
       "      <td>88</td>\n",
       "    </tr>\n",
       "    <tr>\n",
       "      <th>violin</th>\n",
       "      <td>30</td>\n",
       "      <td>0</td>\n",
       "      <td>30</td>\n",
       "    </tr>\n",
       "    <tr>\n",
       "      <th>zebra</th>\n",
       "      <td>10</td>\n",
       "      <td>0</td>\n",
       "      <td>10</td>\n",
       "    </tr>\n",
       "  </tbody>\n",
       "</table>\n",
       "</div>"
      ],
      "text/plain": [
       "                     total  solved  unsolved\n",
       "bonsai tree           1568     642       926\n",
       "flower                1670     500      1170\n",
       "car                   1493     359      1134\n",
       "motorcycle            1335     309      1026\n",
       "laptop                1120     303       817\n",
       "tree                   393     294        99\n",
       "helicopter             242     242         0\n",
       "cup of orange juice    166     166         0\n",
       "goose                   56      42        14\n",
       "cat                      9       0         9\n",
       "crumpled paper ball      9       0         9\n",
       "robot                   88       0        88\n",
       "violin                  30       0        30\n",
       "zebra                   10       0        10"
      ]
     },
     "execution_count": 6,
     "metadata": {},
     "output_type": "execute_result"
    }
   ],
   "source": [
    "%run sqlite_execution.py\n",
    "db_handler = Sqlite_Handler()\n",
    "# db_handler.drop_duplicates()\n",
    "info = db_handler.get_info()\n",
    "info"
   ]
  },
  {
   "cell_type": "code",
   "execution_count": 7,
   "metadata": {},
   "outputs": [
    {
     "data": {
      "image/png": "[encoded data removed]",
      "text/plain": [
       "<Figure size 1000x400 with 1 Axes>"
      ]
     },
     "metadata": {},
     "output_type": "display_data"
    }
   ],
   "source": [
    "%run visualizer.py\n",
    "plot_captcha_info(info, figsize=(4,10))"
   ]
  },
  {
   "cell_type": "code",
   "execution_count": null,
   "metadata": {},
   "outputs": [],
   "source": [
    "%run pytorch_training.py\n",
    "train_model_on_captcha_string(db_handler, \"bonsai tree\", save=True)\n",
    "# train_models_on_all_captcha_strings(db_handler, threshold=100)"
   ]
  },
  {
   "cell_type": "code",
   "execution_count": null,
   "metadata": {},
   "outputs": [],
   "source": [
    "%run pytorch_training.py\n",
    "model_accuracy = test_models_on_all_captcha_strings(db_handler)\n",
    "%run visualizer.py\n",
    "plot_model_accuracy(model_accuracy, figsize=(4,10))"
   ]
  },
  {
   "cell_type": "code",
   "execution_count": null,
   "metadata": {},
   "outputs": [],
   "source": [
    "assert 1 == 0 # to avoid execution of code below"
   ]
  },
  {
   "cell_type": "code",
   "execution_count": null,
   "metadata": {},
   "outputs": [],
   "source": [
    "%run collector/collector.py\n",
    "urls = [\n",
    "    \"https://accounts.hcaptcha.com/demo\",\n",
    "    \"https://nopecha.com/demo/hcaptcha\",\n",
    "    \"https://democaptcha.com/demo-form-eng/hcaptcha.html\",\n",
    "    \"https://freebitco.in/signup/?op=s\", \n",
    "    \"https://accounts.shopify.com/signup?rid=f8d4b2e6-f0fe-41ab-83e5-e633974bd42b&signup_strategy=password\",\n",
    "    \"https://www.dierenkliniekoudorp.nl/\",\n",
    "    \"https://cellar335.com/\",\n",
    "    \"https://www.salumificiovecchi.it/\",\n",
    "    \"https://economygarages.com/\",\n",
    "    \"https://www.assimilationdesigns.com/\"\n",
    "    \"https://raleighvehiclewraps.com/\"\n",
    "    ]\n",
    "collect_data(db_handler, urls[0], count=100, collect_v2=False)"
   ]
  },
  {
   "cell_type": "code",
   "execution_count": null,
   "metadata": {},
   "outputs": [],
   "source": [
    "%run manual_classifier.py\n",
    "mc = Manual_Classifier(db_handler)"
   ]
  },
  {
   "cell_type": "code",
   "execution_count": null,
   "metadata": {},
   "outputs": [],
   "source": [
    "%run vilt.py\n",
    "vilt = Vilt_Classifier()"
   ]
  },
  {
   "cell_type": "code",
   "execution_count": null,
   "metadata": {},
   "outputs": [],
   "source": [
    "vilt_accuracy = pd.concat((info, vilt.get_accuracy_for_all_captchas(db_handler)), axis=1)\n",
    "plot_model_accuracy(vilt_accuracy, figsize=(4,10))"
   ]
  }
 ],
 "metadata": {
  "kernelspec": {
   "display_name": "Python 3",
   "language": "python",
   "name": "python3"
  },
  "language_info": {
   "codemirror_mode": {
    "name": "ipython",
    "version": 3
   },
   "file_extension": ".py",
   "mimetype": "text/x-python",
   "name": "python",
   "nbconvert_exporter": "python",
   "pygments_lexer": "ipython3",
   "version": "3.11.4"
  },
  "orig_nbformat": 4
 },
 "nbformat": 4,
 "nbformat_minor": 2
}
