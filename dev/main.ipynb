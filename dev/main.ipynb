{
 "cells": [
  {
   "cell_type": "code",
   "execution_count": 30,
   "metadata": {},
   "outputs": [],
   "source": [
    "import pandas as pd\n",
    "import numpy as np\n",
    "import os"
   ]
  },
  {
   "cell_type": "code",
   "execution_count": 31,
   "metadata": {},
   "outputs": [
    {
     "data": {
      "text/html": [
       "<div>\n",
       "<style scoped>\n",
       "    .dataframe tbody tr th:only-of-type {\n",
       "        vertical-align: middle;\n",
       "    }\n",
       "\n",
       "    .dataframe tbody tr th {\n",
       "        vertical-align: top;\n",
       "    }\n",
       "\n",
       "    .dataframe thead th {\n",
       "        text-align: right;\n",
       "    }\n",
       "</style>\n",
       "<table border=\"1\" class=\"dataframe\">\n",
       "  <thead>\n",
       "    <tr style=\"text-align: right;\">\n",
       "      <th></th>\n",
       "      <th>total</th>\n",
       "      <th>solved</th>\n",
       "      <th>unsolved</th>\n",
       "    </tr>\n",
       "  </thead>\n",
       "  <tbody>\n",
       "    <tr>\n",
       "      <th>bonsai tree</th>\n",
       "      <td>1235</td>\n",
       "      <td>984</td>\n",
       "      <td>251</td>\n",
       "    </tr>\n",
       "    <tr>\n",
       "      <th>laptop</th>\n",
       "      <td>2005</td>\n",
       "      <td>591</td>\n",
       "      <td>1414</td>\n",
       "    </tr>\n",
       "    <tr>\n",
       "      <th>tree</th>\n",
       "      <td>2008</td>\n",
       "      <td>527</td>\n",
       "      <td>1481</td>\n",
       "    </tr>\n",
       "    <tr>\n",
       "      <th>headphones</th>\n",
       "      <td>2003</td>\n",
       "      <td>515</td>\n",
       "      <td>1488</td>\n",
       "    </tr>\n",
       "    <tr>\n",
       "      <th>flower</th>\n",
       "      <td>1670</td>\n",
       "      <td>500</td>\n",
       "      <td>1170</td>\n",
       "    </tr>\n",
       "    <tr>\n",
       "      <th>cup of orange juice</th>\n",
       "      <td>703</td>\n",
       "      <td>415</td>\n",
       "      <td>288</td>\n",
       "    </tr>\n",
       "    <tr>\n",
       "      <th>car</th>\n",
       "      <td>1493</td>\n",
       "      <td>359</td>\n",
       "      <td>1134</td>\n",
       "    </tr>\n",
       "    <tr>\n",
       "      <th>motorcycle</th>\n",
       "      <td>1335</td>\n",
       "      <td>309</td>\n",
       "      <td>1026</td>\n",
       "    </tr>\n",
       "    <tr>\n",
       "      <th>violin</th>\n",
       "      <td>249</td>\n",
       "      <td>249</td>\n",
       "      <td>0</td>\n",
       "    </tr>\n",
       "    <tr>\n",
       "      <th>helicopter</th>\n",
       "      <td>242</td>\n",
       "      <td>242</td>\n",
       "      <td>0</td>\n",
       "    </tr>\n",
       "    <tr>\n",
       "      <th>goose</th>\n",
       "      <td>156</td>\n",
       "      <td>156</td>\n",
       "      <td>0</td>\n",
       "    </tr>\n",
       "    <tr>\n",
       "      <th>robot</th>\n",
       "      <td>88</td>\n",
       "      <td>0</td>\n",
       "      <td>88</td>\n",
       "    </tr>\n",
       "    <tr>\n",
       "      <th>fruit</th>\n",
       "      <td>11</td>\n",
       "      <td>0</td>\n",
       "      <td>11</td>\n",
       "    </tr>\n",
       "    <tr>\n",
       "      <th>zebra</th>\n",
       "      <td>10</td>\n",
       "      <td>0</td>\n",
       "      <td>10</td>\n",
       "    </tr>\n",
       "    <tr>\n",
       "      <th>cat</th>\n",
       "      <td>9</td>\n",
       "      <td>0</td>\n",
       "      <td>9</td>\n",
       "    </tr>\n",
       "    <tr>\n",
       "      <th>crumpled paper ball</th>\n",
       "      <td>9</td>\n",
       "      <td>0</td>\n",
       "      <td>9</td>\n",
       "    </tr>\n",
       "  </tbody>\n",
       "</table>\n",
       "</div>"
      ],
      "text/plain": [
       "                     total  solved  unsolved\n",
       "bonsai tree           1235     984       251\n",
       "laptop                2005     591      1414\n",
       "tree                  2008     527      1481\n",
       "headphones            2003     515      1488\n",
       "flower                1670     500      1170\n",
       "cup of orange juice    703     415       288\n",
       "car                   1493     359      1134\n",
       "motorcycle            1335     309      1026\n",
       "violin                 249     249         0\n",
       "helicopter             242     242         0\n",
       "goose                  156     156         0\n",
       "robot                   88       0        88\n",
       "fruit                   11       0        11\n",
       "zebra                   10       0        10\n",
       "cat                      9       0         9\n",
       "crumpled paper ball      9       0         9"
      ]
     },
     "execution_count": 31,
     "metadata": {},
     "output_type": "execute_result"
    }
   ],
   "source": [
    "%run sqlite_execution.py\n",
    "db1 = DB_V1()\n",
    "# db1.drop_duplicates()\n",
    "# db1.drop_unuseable_images(commit=True)\n",
    "# db1.cur.execute(\"UPDATE captchas_v1 SET captcha_string = 'headphones' WHERE captcha_string = 'Please click each image containing headphones'\")\n",
    "# db1.cur.execute(\"UPDATE captchas_v1 SET file_path = REPLACE(file_path, 'Please click each image containing headphones', 'headphones')\")\n",
    "# db1.commit()\n",
    "info = db1.get_info()\n",
    "info"
   ]
  },
  {
   "cell_type": "code",
   "execution_count": 32,
   "metadata": {},
   "outputs": [
    {
     "data": {
      "image/png": "[encoded data removed]",
      "text/plain": [
       "<Figure size 1000x400 with 1 Axes>"
      ]
     },
     "metadata": {},
     "output_type": "display_data"
    }
   ],
   "source": [
    "%run visualizer.py\n",
    "plot_captcha_info(info, figsize=(4,10))"
   ]
  },
  {
   "cell_type": "code",
   "execution_count": 33,
   "metadata": {},
   "outputs": [
    {
     "name": "stdout",
     "output_type": "stream",
     "text": [
      "Training model on bonsai tree with 984 samples...\n",
      "Training model on bonsai tree...\n",
      "Fount 984 useable images\n",
      "x shape: (984, 3, 128, 128)\n",
      "y shape: (984, 1)\n",
      "train size: 736, test size: 248\n",
      "single element shape: torch.Size([3, 128, 128])\n",
      "Epoch: 1, Test Loss: 0.0021, Accuracy: 191/248, 77.02%\n",
      "Epoch: 2, Test Loss: 0.0017, Accuracy: 229/248, 92.34%\n",
      "Epoch: 3, Test Loss: 0.0009, Accuracy: 228/248, 91.94%\n",
      "Epoch: 4, Test Loss: 0.0008, Accuracy: 229/248, 92.34%\n",
      "Epoch: 5, Test Loss: 0.0006, Accuracy: 237/248, 95.56%\n",
      "Epoch: 6, Test Loss: 0.0005, Accuracy: 237/248, 95.56%\n",
      "Epoch: 7, Test Loss: 0.0004, Accuracy: 234/248, 94.35%\n",
      "Epoch: 8, Test Loss: 0.0004, Accuracy: 234/248, 94.35%\n",
      "Epoch: 9, Test Loss: 0.0004, Accuracy: 238/248, 95.97%\n",
      "Epoch: 10, Test Loss: 0.0004, Accuracy: 236/248, 95.16%\n",
      "Epoch: 11, Test Loss: 0.0005, Accuracy: 234/248, 94.35%\n",
      "Epoch: 12, Test Loss: 0.0006, Accuracy: 233/248, 93.95%\n",
      "Epoch: 13, Test Loss: 0.0007, Accuracy: 236/248, 95.16%\n",
      "Epoch: 14, Test Loss: 0.0004, Accuracy: 241/248, 97.18%\n",
      "Epoch: 15, Test Loss: 0.0004, Accuracy: 237/248, 95.56%\n",
      "Epoch: 16, Test Loss: 0.0004, Accuracy: 241/248, 97.18%\n",
      "Epoch: 17, Test Loss: 0.0004, Accuracy: 240/248, 96.77%\n",
      "Epoch: 18, Test Loss: 0.0004, Accuracy: 241/248, 97.18%\n",
      "Epoch: 19, Test Loss: 0.0004, Accuracy: 237/248, 95.56%\n",
      "Epoch: 20, Test Loss: 0.0005, Accuracy: 240/248, 96.77%\n",
      "Epoch: 21, Test Loss: 0.0004, Accuracy: 242/248, 97.58%\n",
      "Epoch: 22, Test Loss: 0.0004, Accuracy: 237/248, 95.56%\n",
      "Epoch: 23, Test Loss: 0.0004, Accuracy: 239/248, 96.37%\n",
      "Epoch: 24, Test Loss: 0.0004, Accuracy: 236/248, 95.16%\n",
      "Epoch: 25, Test Loss: 0.0004, Accuracy: 235/248, 94.76%\n",
      "Epoch: 26, Test Loss: 0.0004, Accuracy: 240/248, 96.77%\n",
      "Epoch: 27, Test Loss: 0.0004, Accuracy: 239/248, 96.37%\n",
      "Early stopping at epoch 27\n",
      "Saved model to ../data/models/bonsai tree/23-229_01\n",
      "Skipping laptop with 591 samples...\n",
      "Skipping tree with 527 samples...\n",
      "Skipping headphones with 515 samples...\n",
      "Skipping flower with 500 samples...\n",
      "Skipping cup of orange juice with 415 samples...\n",
      "Skipping car with 359 samples...\n",
      "Skipping motorcycle with 309 samples...\n",
      "Training model on violin with 249 samples...\n",
      "Training model on violin...\n",
      "Fount 249 useable images\n",
      "x shape: (249, 3, 128, 128)\n",
      "y shape: (249, 1)\n",
      "train size: 176, test size: 73\n",
      "single element shape: torch.Size([3, 128, 128])\n",
      "Epoch: 1, Test Loss: 0.0088, Accuracy: 48/73, 65.75%\n",
      "Epoch: 2, Test Loss: 0.0086, Accuracy: 48/73, 65.75%\n",
      "Epoch: 3, Test Loss: 0.0084, Accuracy: 48/73, 65.75%\n",
      "Epoch: 4, Test Loss: 0.0082, Accuracy: 48/73, 65.75%\n",
      "Epoch: 5, Test Loss: 0.0080, Accuracy: 48/73, 65.75%\n",
      "Epoch: 6, Test Loss: 0.0076, Accuracy: 53/73, 72.60%\n",
      "Epoch: 7, Test Loss: 0.0073, Accuracy: 54/73, 73.97%\n",
      "Epoch: 8, Test Loss: 0.0065, Accuracy: 58/73, 79.45%\n",
      "Epoch: 9, Test Loss: 0.0063, Accuracy: 59/73, 80.82%\n",
      "Epoch: 10, Test Loss: 0.0060, Accuracy: 59/73, 80.82%\n",
      "Epoch: 11, Test Loss: 0.0069, Accuracy: 58/73, 79.45%\n",
      "Epoch: 12, Test Loss: 0.0054, Accuracy: 59/73, 80.82%\n",
      "Epoch: 13, Test Loss: 0.0054, Accuracy: 60/73, 82.19%\n",
      "Epoch: 14, Test Loss: 0.0059, Accuracy: 58/73, 79.45%\n",
      "Epoch: 15, Test Loss: 0.0057, Accuracy: 59/73, 80.82%\n",
      "Epoch: 16, Test Loss: 0.0062, Accuracy: 59/73, 80.82%\n",
      "Epoch: 17, Test Loss: 0.0051, Accuracy: 61/73, 83.56%\n",
      "Epoch: 18, Test Loss: 0.0051, Accuracy: 61/73, 83.56%\n",
      "Epoch: 19, Test Loss: 0.0049, Accuracy: 61/73, 83.56%\n",
      "Epoch: 20, Test Loss: 0.0049, Accuracy: 61/73, 83.56%\n",
      "Epoch: 21, Test Loss: 0.0050, Accuracy: 62/73, 84.93%\n",
      "Epoch: 22, Test Loss: 0.0055, Accuracy: 61/73, 83.56%\n",
      "Epoch: 23, Test Loss: 0.0055, Accuracy: 61/73, 83.56%\n",
      "Epoch: 24, Test Loss: 0.0068, Accuracy: 60/73, 82.19%\n",
      "Epoch: 25, Test Loss: 0.0054, Accuracy: 62/73, 84.93%\n",
      "Epoch: 26, Test Loss: 0.0054, Accuracy: 62/73, 84.93%\n",
      "Epoch: 27, Test Loss: 0.0054, Accuracy: 62/73, 84.93%\n",
      "Epoch: 28, Test Loss: 0.0057, Accuracy: 62/73, 84.93%\n",
      "Epoch: 29, Test Loss: 0.0068, Accuracy: 61/73, 83.56%\n",
      "Epoch: 30, Test Loss: 0.0080, Accuracy: 61/73, 83.56%\n",
      "Early stopping at epoch 30\n",
      "Saved model to ../data/models/violin/23-229_02\n",
      "Skipping helicopter with 242 samples...\n"
     ]
    }
   ],
   "source": [
    "%run pytorch_training.py\n",
    "# train_model_on_captcha_string(db1, \"laptop\", save=True, epochs=10)\n",
    "train_models_on_all_captcha_strings(db1, threshold=200, save=True)"
   ]
  },
  {
   "cell_type": "code",
   "execution_count": 34,
   "metadata": {},
   "outputs": [
    {
     "data": {
      "text/html": [
       "<div>\n",
       "<style scoped>\n",
       "    .dataframe tbody tr th:only-of-type {\n",
       "        vertical-align: middle;\n",
       "    }\n",
       "\n",
       "    .dataframe tbody tr th {\n",
       "        vertical-align: top;\n",
       "    }\n",
       "\n",
       "    .dataframe thead th {\n",
       "        text-align: right;\n",
       "    }\n",
       "</style>\n",
       "<table border=\"1\" class=\"dataframe\">\n",
       "  <thead>\n",
       "    <tr style=\"text-align: right;\">\n",
       "      <th></th>\n",
       "      <th>date</th>\n",
       "      <th>path</th>\n",
       "      <th>training_samples</th>\n",
       "      <th>testing_samples</th>\n",
       "      <th>accuracy</th>\n",
       "      <th>better_than_90</th>\n",
       "      <th>better_than_95</th>\n",
       "    </tr>\n",
       "  </thead>\n",
       "  <tbody>\n",
       "    <tr>\n",
       "      <th>bonsai tree</th>\n",
       "      <td>2023-08-17</td>\n",
       "      <td>bonsai tree/23-229_01</td>\n",
       "      <td>736</td>\n",
       "      <td>248</td>\n",
       "      <td>0.967742</td>\n",
       "      <td>0.999987</td>\n",
       "      <td>0.931569</td>\n",
       "    </tr>\n",
       "    <tr>\n",
       "      <th>laptop</th>\n",
       "      <td>2023-08-17</td>\n",
       "      <td>laptop/23-229_01</td>\n",
       "      <td>432</td>\n",
       "      <td>159</td>\n",
       "      <td>0.918239</td>\n",
       "      <td>0.814039</td>\n",
       "      <td>0.056590</td>\n",
       "    </tr>\n",
       "    <tr>\n",
       "      <th>tree</th>\n",
       "      <td>2023-08-17</td>\n",
       "      <td>tree/23-229_01</td>\n",
       "      <td>384</td>\n",
       "      <td>143</td>\n",
       "      <td>0.951049</td>\n",
       "      <td>0.991042</td>\n",
       "      <td>0.576703</td>\n",
       "    </tr>\n",
       "    <tr>\n",
       "      <th>headphones</th>\n",
       "      <td>2023-08-17</td>\n",
       "      <td>headphones/23-229_01</td>\n",
       "      <td>384</td>\n",
       "      <td>131</td>\n",
       "      <td>0.977099</td>\n",
       "      <td>0.999878</td>\n",
       "      <td>0.961994</td>\n",
       "    </tr>\n",
       "    <tr>\n",
       "      <th>flower</th>\n",
       "      <td>2023-08-15</td>\n",
       "      <td>flower/23-227_01</td>\n",
       "      <td>368</td>\n",
       "      <td>132</td>\n",
       "      <td>0.931818</td>\n",
       "      <td>0.920240</td>\n",
       "      <td>0.216006</td>\n",
       "    </tr>\n",
       "    <tr>\n",
       "      <th>cup of orange juice</th>\n",
       "      <td>2023-08-16</td>\n",
       "      <td>cup of orange juice/23-228_03</td>\n",
       "      <td>304</td>\n",
       "      <td>111</td>\n",
       "      <td>0.972973</td>\n",
       "      <td>0.999261</td>\n",
       "      <td>0.920008</td>\n",
       "    </tr>\n",
       "    <tr>\n",
       "      <th>car</th>\n",
       "      <td>2023-08-15</td>\n",
       "      <td>car/23-227_01</td>\n",
       "      <td>256</td>\n",
       "      <td>103</td>\n",
       "      <td>0.980583</td>\n",
       "      <td>0.999759</td>\n",
       "      <td>0.967406</td>\n",
       "    </tr>\n",
       "    <tr>\n",
       "      <th>motorcycle</th>\n",
       "      <td>2023-08-15</td>\n",
       "      <td>motorcycle/23-227_01</td>\n",
       "      <td>224</td>\n",
       "      <td>85</td>\n",
       "      <td>0.976471</td>\n",
       "      <td>0.998653</td>\n",
       "      <td>0.930050</td>\n",
       "    </tr>\n",
       "    <tr>\n",
       "      <th>violin</th>\n",
       "      <td>2023-08-15</td>\n",
       "      <td>violin/23-227_01</td>\n",
       "      <td>176</td>\n",
       "      <td>59</td>\n",
       "      <td>0.830508</td>\n",
       "      <td>0.066589</td>\n",
       "      <td>0.000644</td>\n",
       "    </tr>\n",
       "    <tr>\n",
       "      <th>helicopter</th>\n",
       "      <td>2023-08-15</td>\n",
       "      <td>helicopter/23-227_01</td>\n",
       "      <td>176</td>\n",
       "      <td>66</td>\n",
       "      <td>0.893939</td>\n",
       "      <td>0.494087</td>\n",
       "      <td>0.046416</td>\n",
       "    </tr>\n",
       "    <tr>\n",
       "      <th>goose</th>\n",
       "      <td>2023-08-16</td>\n",
       "      <td>goose/23-228_01</td>\n",
       "      <td>96</td>\n",
       "      <td>35</td>\n",
       "      <td>0.828571</td>\n",
       "      <td>0.131636</td>\n",
       "      <td>0.007252</td>\n",
       "    </tr>\n",
       "  </tbody>\n",
       "</table>\n",
       "</div>"
      ],
      "text/plain": [
       "                           date                           path  \\\n",
       "bonsai tree          2023-08-17          bonsai tree/23-229_01   \n",
       "laptop               2023-08-17               laptop/23-229_01   \n",
       "tree                 2023-08-17                 tree/23-229_01   \n",
       "headphones           2023-08-17           headphones/23-229_01   \n",
       "flower               2023-08-15               flower/23-227_01   \n",
       "cup of orange juice  2023-08-16  cup of orange juice/23-228_03   \n",
       "car                  2023-08-15                  car/23-227_01   \n",
       "motorcycle           2023-08-15           motorcycle/23-227_01   \n",
       "violin               2023-08-15               violin/23-227_01   \n",
       "helicopter           2023-08-15           helicopter/23-227_01   \n",
       "goose                2023-08-16                goose/23-228_01   \n",
       "\n",
       "                     training_samples  testing_samples  accuracy  \\\n",
       "bonsai tree                       736              248  0.967742   \n",
       "laptop                            432              159  0.918239   \n",
       "tree                              384              143  0.951049   \n",
       "headphones                        384              131  0.977099   \n",
       "flower                            368              132  0.931818   \n",
       "cup of orange juice               304              111  0.972973   \n",
       "car                               256              103  0.980583   \n",
       "motorcycle                        224               85  0.976471   \n",
       "violin                            176               59  0.830508   \n",
       "helicopter                        176               66  0.893939   \n",
       "goose                              96               35  0.828571   \n",
       "\n",
       "                     better_than_90  better_than_95  \n",
       "bonsai tree                0.999987        0.931569  \n",
       "laptop                     0.814039        0.056590  \n",
       "tree                       0.991042        0.576703  \n",
       "headphones                 0.999878        0.961994  \n",
       "flower                     0.920240        0.216006  \n",
       "cup of orange juice        0.999261        0.920008  \n",
       "car                        0.999759        0.967406  \n",
       "motorcycle                 0.998653        0.930050  \n",
       "violin                     0.066589        0.000644  \n",
       "helicopter                 0.494087        0.046416  \n",
       "goose                      0.131636        0.007252  "
      ]
     },
     "execution_count": 34,
     "metadata": {},
     "output_type": "execute_result"
    }
   ],
   "source": [
    "model_info = db1.get_model_info()\n",
    "model_info"
   ]
  },
  {
   "cell_type": "code",
   "execution_count": 35,
   "metadata": {},
   "outputs": [
    {
     "data": {
      "image/png": "[encoded data removed]",
      "text/plain": [
       "<Figure size 1000x400 with 1 Axes>"
      ]
     },
     "metadata": {},
     "output_type": "display_data"
    }
   ],
   "source": [
    "%run visualizer.py\n",
    "plot_model_accuracy(model_info)"
   ]
  },
  {
   "cell_type": "code",
   "execution_count": 36,
   "metadata": {},
   "outputs": [
    {
     "name": "stdout",
     "output_type": "stream",
     "text": [
      "bonsai tree bonsai tree/23-229_01\n",
      "File copied and renamed to: ../src/hcaptcha_solver/models//bonsai tree\n",
      "laptop laptop/23-229_01\n",
      "File copied and renamed to: ../src/hcaptcha_solver/models//laptop\n",
      "tree tree/23-229_01\n",
      "File copied and renamed to: ../src/hcaptcha_solver/models//tree\n",
      "headphones headphones/23-229_01\n",
      "File copied and renamed to: ../src/hcaptcha_solver/models//headphones\n",
      "flower flower/23-227_01\n",
      "File copied and renamed to: ../src/hcaptcha_solver/models//flower\n",
      "cup of orange juice cup of orange juice/23-228_03\n",
      "File copied and renamed to: ../src/hcaptcha_solver/models//cup of orange juice\n",
      "car car/23-227_01\n",
      "File copied and renamed to: ../src/hcaptcha_solver/models//car\n",
      "motorcycle motorcycle/23-227_01\n",
      "File copied and renamed to: ../src/hcaptcha_solver/models//motorcycle\n"
     ]
    }
   ],
   "source": [
    "db1.load_models_into_src(threshold=0.9)"
   ]
  },
  {
   "cell_type": "code",
   "execution_count": 37,
   "metadata": {},
   "outputs": [
    {
     "ename": "AssertionError",
     "evalue": "",
     "output_type": "error",
     "traceback": [
      "\u001b[1;31m---------------------------------------------------------------------------\u001b[0m",
      "\u001b[1;31mAssertionError\u001b[0m                            Traceback (most recent call last)",
      "Cell \u001b[1;32mIn[37], line 1\u001b[0m\n\u001b[1;32m----> 1\u001b[0m \u001b[39massert\u001b[39;00m \u001b[39m1\u001b[39m \u001b[39m==\u001b[39m \u001b[39m0\u001b[39m \u001b[39m# to avoid execution of code below\u001b[39;00m\n",
      "\u001b[1;31mAssertionError\u001b[0m: "
     ]
    }
   ],
   "source": [
    "assert 1 == 0 # to avoid execution of code below"
   ]
  },
  {
   "cell_type": "code",
   "execution_count": null,
   "metadata": {},
   "outputs": [
    {
     "name": "stdout",
     "output_type": "stream",
     "text": [
      "Loaded Website\n",
      "Launched hCaptcha\n",
      "Switched to Captcha\n",
      "Captcha V1\n"
     ]
    },
    {
     "ename": "KeyboardInterrupt",
     "evalue": "",
     "output_type": "error",
     "traceback": [
      "\u001b[1;31m---------------------------------------------------------------------------\u001b[0m",
      "\u001b[1;31mKeyboardInterrupt\u001b[0m                         Traceback (most recent call last)",
      "Cell \u001b[1;32mIn[28], line 15\u001b[0m\n\u001b[0;32m      1\u001b[0m get_ipython()\u001b[39m.\u001b[39mrun_line_magic(\u001b[39m'\u001b[39m\u001b[39mrun\u001b[39m\u001b[39m'\u001b[39m, \u001b[39m'\u001b[39m\u001b[39mcollector/collector.py\u001b[39m\u001b[39m'\u001b[39m)\n\u001b[0;32m      2\u001b[0m urls \u001b[39m=\u001b[39m [\n\u001b[0;32m      3\u001b[0m     \u001b[39m\"\u001b[39m\u001b[39mhttps://accounts.hcaptcha.com/demo\u001b[39m\u001b[39m\"\u001b[39m,\n\u001b[0;32m      4\u001b[0m     \u001b[39m\"\u001b[39m\u001b[39mhttps://nopecha.com/demo/hcaptcha\u001b[39m\u001b[39m\"\u001b[39m,\n\u001b[1;32m   (...)\u001b[0m\n\u001b[0;32m     13\u001b[0m     \u001b[39m\"\u001b[39m\u001b[39mhttps://raleighvehiclewraps.com/\u001b[39m\u001b[39m\"\u001b[39m\n\u001b[0;32m     14\u001b[0m     ]\n\u001b[1;32m---> 15\u001b[0m collect_data(db1, urls[\u001b[39m0\u001b[39;49m], count\u001b[39m=\u001b[39;49m\u001b[39m1000\u001b[39;49m, collect_v2\u001b[39m=\u001b[39;49m\u001b[39mTrue\u001b[39;49;00m, limit\u001b[39m=\u001b[39;49m\u001b[39m2000\u001b[39;49m)\n",
      "File \u001b[1;32m~\\Desktop\\PERS\\hcaptcha-solver\\dev\\collector\\collector.py:77\u001b[0m, in \u001b[0;36mcollect_data\u001b[1;34m(db_handler, url, count, collect_v2, limit, headless)\u001b[0m\n\u001b[0;32m     74\u001b[0m limited_captcha_strings \u001b[39m=\u001b[39m info[info[\u001b[39m\"\u001b[39m\u001b[39mtotal\u001b[39m\u001b[39m\"\u001b[39m] \u001b[39m>\u001b[39m limit][\u001b[39m\"\u001b[39m\u001b[39mtotal\u001b[39m\u001b[39m\"\u001b[39m]\u001b[39m.\u001b[39mindex\u001b[39m.\u001b[39mvalues\n\u001b[0;32m     76\u001b[0m \u001b[39mtry\u001b[39;00m:\n\u001b[1;32m---> 77\u001b[0m     captcha_str, captcha_urls \u001b[39m=\u001b[39m wd\u001b[39m.\u001b[39;49mget_all_and_skip(collect_v2)\n\u001b[0;32m     78\u001b[0m \u001b[39mexcept\u001b[39;00m \u001b[39mException\u001b[39;00m \u001b[39mas\u001b[39;00m e:\n\u001b[0;32m     79\u001b[0m     \u001b[39mprint\u001b[39m(e)\n",
      "File \u001b[1;32m~\\Desktop\\PERS\\hcaptcha-solver\\dev\\collector\\wd_handler.py:101\u001b[0m, in \u001b[0;36mWebdriver_Handler.get_all_and_skip\u001b[1;34m(self, collect_v2)\u001b[0m\n\u001b[0;32m     98\u001b[0m     img_url \u001b[39m=\u001b[39m ims\u001b[39m.\u001b[39msplit(\u001b[39m\"\u001b[39m\u001b[39murl(\u001b[39m\u001b[39m\\\"\u001b[39;00m\u001b[39m\"\u001b[39m)[\u001b[39m1\u001b[39m]\u001b[39m.\u001b[39msplit(\u001b[39m\"\u001b[39m\u001b[39m\\\"\u001b[39;00m\u001b[39m) \u001b[39m\u001b[39m\"\u001b[39m)[\u001b[39m0\u001b[39m]\n\u001b[0;32m     99\u001b[0m     urls\u001b[39m.\u001b[39mappend(img_url)\n\u001b[1;32m--> 101\u001b[0m WebDriverWait(\u001b[39mself\u001b[39;49m\u001b[39m.\u001b[39;49mwd, \u001b[39mself\u001b[39;49m\u001b[39m.\u001b[39;49mtimeout)\u001b[39m.\u001b[39;49muntil(EC\u001b[39m.\u001b[39;49melement_to_be_clickable((By\u001b[39m.\u001b[39;49mXPATH, \u001b[39m\"\u001b[39;49m\u001b[39m//div[contains(@class, \u001b[39;49m\u001b[39m'\u001b[39;49m\u001b[39mrefresh button\u001b[39;49m\u001b[39m'\u001b[39;49m\u001b[39m)]\u001b[39;49m\u001b[39m\"\u001b[39;49m)))\u001b[39m.\u001b[39;49mclick()\n\u001b[0;32m    102\u001b[0m \u001b[39m# WebDriverWait(self.wd, self.timeout).until(EC.element_to_be_clickable((By.XPATH, \"//div[contains(@class, 'submit button')]\"))).click()\u001b[39;00m\n\u001b[0;32m    104\u001b[0m \u001b[39mreturn\u001b[39;00m captcha_str, urls\n",
      "File \u001b[1;32mc:\\Users\\V61XNRQ\\AppData\\Local\\anaconda3\\envs\\full311\\Lib\\site-packages\\selenium\\webdriver\\remote\\webelement.py:94\u001b[0m, in \u001b[0;36mWebElement.click\u001b[1;34m(self)\u001b[0m\n\u001b[0;32m     92\u001b[0m \u001b[39mdef\u001b[39;00m \u001b[39mclick\u001b[39m(\u001b[39mself\u001b[39m) \u001b[39m-\u001b[39m\u001b[39m>\u001b[39m \u001b[39mNone\u001b[39;00m:\n\u001b[0;32m     93\u001b[0m \u001b[39m    \u001b[39m\u001b[39m\"\"\"Clicks the element.\"\"\"\u001b[39;00m\n\u001b[1;32m---> 94\u001b[0m     \u001b[39mself\u001b[39;49m\u001b[39m.\u001b[39;49m_execute(Command\u001b[39m.\u001b[39;49mCLICK_ELEMENT)\n",
      "File \u001b[1;32mc:\\Users\\V61XNRQ\\AppData\\Local\\anaconda3\\envs\\full311\\Lib\\site-packages\\selenium\\webdriver\\remote\\webelement.py:395\u001b[0m, in \u001b[0;36mWebElement._execute\u001b[1;34m(self, command, params)\u001b[0m\n\u001b[0;32m    393\u001b[0m     params \u001b[39m=\u001b[39m {}\n\u001b[0;32m    394\u001b[0m params[\u001b[39m\"\u001b[39m\u001b[39mid\u001b[39m\u001b[39m\"\u001b[39m] \u001b[39m=\u001b[39m \u001b[39mself\u001b[39m\u001b[39m.\u001b[39m_id\n\u001b[1;32m--> 395\u001b[0m \u001b[39mreturn\u001b[39;00m \u001b[39mself\u001b[39;49m\u001b[39m.\u001b[39;49m_parent\u001b[39m.\u001b[39;49mexecute(command, params)\n",
      "File \u001b[1;32mc:\\Users\\V61XNRQ\\AppData\\Local\\anaconda3\\envs\\full311\\Lib\\site-packages\\selenium\\webdriver\\remote\\webdriver.py:343\u001b[0m, in \u001b[0;36mWebDriver.execute\u001b[1;34m(self, driver_command, params)\u001b[0m\n\u001b[0;32m    340\u001b[0m     \u001b[39melif\u001b[39;00m \u001b[39m\"\u001b[39m\u001b[39msessionId\u001b[39m\u001b[39m\"\u001b[39m \u001b[39mnot\u001b[39;00m \u001b[39min\u001b[39;00m params:\n\u001b[0;32m    341\u001b[0m         params[\u001b[39m\"\u001b[39m\u001b[39msessionId\u001b[39m\u001b[39m\"\u001b[39m] \u001b[39m=\u001b[39m \u001b[39mself\u001b[39m\u001b[39m.\u001b[39msession_id\n\u001b[1;32m--> 343\u001b[0m response \u001b[39m=\u001b[39m \u001b[39mself\u001b[39;49m\u001b[39m.\u001b[39;49mcommand_executor\u001b[39m.\u001b[39;49mexecute(driver_command, params)\n\u001b[0;32m    344\u001b[0m \u001b[39mif\u001b[39;00m response:\n\u001b[0;32m    345\u001b[0m     \u001b[39mself\u001b[39m\u001b[39m.\u001b[39merror_handler\u001b[39m.\u001b[39mcheck_response(response)\n",
      "File \u001b[1;32mc:\\Users\\V61XNRQ\\AppData\\Local\\anaconda3\\envs\\full311\\Lib\\site-packages\\selenium\\webdriver\\remote\\remote_connection.py:291\u001b[0m, in \u001b[0;36mRemoteConnection.execute\u001b[1;34m(self, command, params)\u001b[0m\n\u001b[0;32m    289\u001b[0m data \u001b[39m=\u001b[39m utils\u001b[39m.\u001b[39mdump_json(params)\n\u001b[0;32m    290\u001b[0m url \u001b[39m=\u001b[39m \u001b[39mf\u001b[39m\u001b[39m\"\u001b[39m\u001b[39m{\u001b[39;00m\u001b[39mself\u001b[39m\u001b[39m.\u001b[39m_url\u001b[39m}\u001b[39;00m\u001b[39m{\u001b[39;00mpath\u001b[39m}\u001b[39;00m\u001b[39m\"\u001b[39m\n\u001b[1;32m--> 291\u001b[0m \u001b[39mreturn\u001b[39;00m \u001b[39mself\u001b[39;49m\u001b[39m.\u001b[39;49m_request(command_info[\u001b[39m0\u001b[39;49m], url, body\u001b[39m=\u001b[39;49mdata)\n",
      "File \u001b[1;32mc:\\Users\\V61XNRQ\\AppData\\Local\\anaconda3\\envs\\full311\\Lib\\site-packages\\selenium\\webdriver\\remote\\remote_connection.py:312\u001b[0m, in \u001b[0;36mRemoteConnection._request\u001b[1;34m(self, method, url, body)\u001b[0m\n\u001b[0;32m    309\u001b[0m     body \u001b[39m=\u001b[39m \u001b[39mNone\u001b[39;00m\n\u001b[0;32m    311\u001b[0m \u001b[39mif\u001b[39;00m \u001b[39mself\u001b[39m\u001b[39m.\u001b[39mkeep_alive:\n\u001b[1;32m--> 312\u001b[0m     response \u001b[39m=\u001b[39m \u001b[39mself\u001b[39;49m\u001b[39m.\u001b[39;49m_conn\u001b[39m.\u001b[39;49mrequest(method, url, body\u001b[39m=\u001b[39;49mbody, headers\u001b[39m=\u001b[39;49mheaders)\n\u001b[0;32m    313\u001b[0m     statuscode \u001b[39m=\u001b[39m response\u001b[39m.\u001b[39mstatus\n\u001b[0;32m    314\u001b[0m \u001b[39melse\u001b[39;00m:\n",
      "File \u001b[1;32mc:\\Users\\V61XNRQ\\AppData\\Local\\anaconda3\\envs\\full311\\Lib\\site-packages\\urllib3\\request.py:78\u001b[0m, in \u001b[0;36mRequestMethods.request\u001b[1;34m(self, method, url, fields, headers, **urlopen_kw)\u001b[0m\n\u001b[0;32m     74\u001b[0m     \u001b[39mreturn\u001b[39;00m \u001b[39mself\u001b[39m\u001b[39m.\u001b[39mrequest_encode_url(\n\u001b[0;32m     75\u001b[0m         method, url, fields\u001b[39m=\u001b[39mfields, headers\u001b[39m=\u001b[39mheaders, \u001b[39m*\u001b[39m\u001b[39m*\u001b[39murlopen_kw\n\u001b[0;32m     76\u001b[0m     )\n\u001b[0;32m     77\u001b[0m \u001b[39melse\u001b[39;00m:\n\u001b[1;32m---> 78\u001b[0m     \u001b[39mreturn\u001b[39;00m \u001b[39mself\u001b[39;49m\u001b[39m.\u001b[39;49mrequest_encode_body(\n\u001b[0;32m     79\u001b[0m         method, url, fields\u001b[39m=\u001b[39;49mfields, headers\u001b[39m=\u001b[39;49mheaders, \u001b[39m*\u001b[39;49m\u001b[39m*\u001b[39;49murlopen_kw\n\u001b[0;32m     80\u001b[0m     )\n",
      "File \u001b[1;32mc:\\Users\\V61XNRQ\\AppData\\Local\\anaconda3\\envs\\full311\\Lib\\site-packages\\urllib3\\request.py:170\u001b[0m, in \u001b[0;36mRequestMethods.request_encode_body\u001b[1;34m(self, method, url, fields, headers, encode_multipart, multipart_boundary, **urlopen_kw)\u001b[0m\n\u001b[0;32m    167\u001b[0m extra_kw[\u001b[39m\"\u001b[39m\u001b[39mheaders\u001b[39m\u001b[39m\"\u001b[39m]\u001b[39m.\u001b[39mupdate(headers)\n\u001b[0;32m    168\u001b[0m extra_kw\u001b[39m.\u001b[39mupdate(urlopen_kw)\n\u001b[1;32m--> 170\u001b[0m \u001b[39mreturn\u001b[39;00m \u001b[39mself\u001b[39;49m\u001b[39m.\u001b[39;49murlopen(method, url, \u001b[39m*\u001b[39;49m\u001b[39m*\u001b[39;49mextra_kw)\n",
      "File \u001b[1;32mc:\\Users\\V61XNRQ\\AppData\\Local\\anaconda3\\envs\\full311\\Lib\\site-packages\\urllib3\\poolmanager.py:376\u001b[0m, in \u001b[0;36mPoolManager.urlopen\u001b[1;34m(self, method, url, redirect, **kw)\u001b[0m\n\u001b[0;32m    374\u001b[0m     response \u001b[39m=\u001b[39m conn\u001b[39m.\u001b[39murlopen(method, url, \u001b[39m*\u001b[39m\u001b[39m*\u001b[39mkw)\n\u001b[0;32m    375\u001b[0m \u001b[39melse\u001b[39;00m:\n\u001b[1;32m--> 376\u001b[0m     response \u001b[39m=\u001b[39m conn\u001b[39m.\u001b[39;49murlopen(method, u\u001b[39m.\u001b[39;49mrequest_uri, \u001b[39m*\u001b[39;49m\u001b[39m*\u001b[39;49mkw)\n\u001b[0;32m    378\u001b[0m redirect_location \u001b[39m=\u001b[39m redirect \u001b[39mand\u001b[39;00m response\u001b[39m.\u001b[39mget_redirect_location()\n\u001b[0;32m    379\u001b[0m \u001b[39mif\u001b[39;00m \u001b[39mnot\u001b[39;00m redirect_location:\n",
      "File \u001b[1;32mc:\\Users\\V61XNRQ\\AppData\\Local\\anaconda3\\envs\\full311\\Lib\\site-packages\\urllib3\\connectionpool.py:714\u001b[0m, in \u001b[0;36mHTTPConnectionPool.urlopen\u001b[1;34m(self, method, url, body, headers, retries, redirect, assert_same_host, timeout, pool_timeout, release_conn, chunked, body_pos, **response_kw)\u001b[0m\n\u001b[0;32m    711\u001b[0m     \u001b[39mself\u001b[39m\u001b[39m.\u001b[39m_prepare_proxy(conn)\n\u001b[0;32m    713\u001b[0m \u001b[39m# Make the request on the httplib connection object.\u001b[39;00m\n\u001b[1;32m--> 714\u001b[0m httplib_response \u001b[39m=\u001b[39m \u001b[39mself\u001b[39;49m\u001b[39m.\u001b[39;49m_make_request(\n\u001b[0;32m    715\u001b[0m     conn,\n\u001b[0;32m    716\u001b[0m     method,\n\u001b[0;32m    717\u001b[0m     url,\n\u001b[0;32m    718\u001b[0m     timeout\u001b[39m=\u001b[39;49mtimeout_obj,\n\u001b[0;32m    719\u001b[0m     body\u001b[39m=\u001b[39;49mbody,\n\u001b[0;32m    720\u001b[0m     headers\u001b[39m=\u001b[39;49mheaders,\n\u001b[0;32m    721\u001b[0m     chunked\u001b[39m=\u001b[39;49mchunked,\n\u001b[0;32m    722\u001b[0m )\n\u001b[0;32m    724\u001b[0m \u001b[39m# If we're going to release the connection in ``finally:``, then\u001b[39;00m\n\u001b[0;32m    725\u001b[0m \u001b[39m# the response doesn't need to know about the connection. Otherwise\u001b[39;00m\n\u001b[0;32m    726\u001b[0m \u001b[39m# it will also try to release it and we'll have a double-release\u001b[39;00m\n\u001b[0;32m    727\u001b[0m \u001b[39m# mess.\u001b[39;00m\n\u001b[0;32m    728\u001b[0m response_conn \u001b[39m=\u001b[39m conn \u001b[39mif\u001b[39;00m \u001b[39mnot\u001b[39;00m release_conn \u001b[39melse\u001b[39;00m \u001b[39mNone\u001b[39;00m\n",
      "File \u001b[1;32mc:\\Users\\V61XNRQ\\AppData\\Local\\anaconda3\\envs\\full311\\Lib\\site-packages\\urllib3\\connectionpool.py:466\u001b[0m, in \u001b[0;36mHTTPConnectionPool._make_request\u001b[1;34m(self, conn, method, url, timeout, chunked, **httplib_request_kw)\u001b[0m\n\u001b[0;32m    461\u001b[0m             httplib_response \u001b[39m=\u001b[39m conn\u001b[39m.\u001b[39mgetresponse()\n\u001b[0;32m    462\u001b[0m         \u001b[39mexcept\u001b[39;00m \u001b[39mBaseException\u001b[39;00m \u001b[39mas\u001b[39;00m e:\n\u001b[0;32m    463\u001b[0m             \u001b[39m# Remove the TypeError from the exception chain in\u001b[39;00m\n\u001b[0;32m    464\u001b[0m             \u001b[39m# Python 3 (including for exceptions like SystemExit).\u001b[39;00m\n\u001b[0;32m    465\u001b[0m             \u001b[39m# Otherwise it looks like a bug in the code.\u001b[39;00m\n\u001b[1;32m--> 466\u001b[0m             six\u001b[39m.\u001b[39;49mraise_from(e, \u001b[39mNone\u001b[39;49;00m)\n\u001b[0;32m    467\u001b[0m \u001b[39mexcept\u001b[39;00m (SocketTimeout, BaseSSLError, SocketError) \u001b[39mas\u001b[39;00m e:\n\u001b[0;32m    468\u001b[0m     \u001b[39mself\u001b[39m\u001b[39m.\u001b[39m_raise_timeout(err\u001b[39m=\u001b[39me, url\u001b[39m=\u001b[39murl, timeout_value\u001b[39m=\u001b[39mread_timeout)\n",
      "File \u001b[1;32m<string>:3\u001b[0m, in \u001b[0;36mraise_from\u001b[1;34m(value, from_value)\u001b[0m\n",
      "File \u001b[1;32mc:\\Users\\V61XNRQ\\AppData\\Local\\anaconda3\\envs\\full311\\Lib\\site-packages\\urllib3\\connectionpool.py:461\u001b[0m, in \u001b[0;36mHTTPConnectionPool._make_request\u001b[1;34m(self, conn, method, url, timeout, chunked, **httplib_request_kw)\u001b[0m\n\u001b[0;32m    458\u001b[0m \u001b[39mexcept\u001b[39;00m \u001b[39mTypeError\u001b[39;00m:\n\u001b[0;32m    459\u001b[0m     \u001b[39m# Python 3\u001b[39;00m\n\u001b[0;32m    460\u001b[0m     \u001b[39mtry\u001b[39;00m:\n\u001b[1;32m--> 461\u001b[0m         httplib_response \u001b[39m=\u001b[39m conn\u001b[39m.\u001b[39;49mgetresponse()\n\u001b[0;32m    462\u001b[0m     \u001b[39mexcept\u001b[39;00m \u001b[39mBaseException\u001b[39;00m \u001b[39mas\u001b[39;00m e:\n\u001b[0;32m    463\u001b[0m         \u001b[39m# Remove the TypeError from the exception chain in\u001b[39;00m\n\u001b[0;32m    464\u001b[0m         \u001b[39m# Python 3 (including for exceptions like SystemExit).\u001b[39;00m\n\u001b[0;32m    465\u001b[0m         \u001b[39m# Otherwise it looks like a bug in the code.\u001b[39;00m\n\u001b[0;32m    466\u001b[0m         six\u001b[39m.\u001b[39mraise_from(e, \u001b[39mNone\u001b[39;00m)\n",
      "File \u001b[1;32mc:\\Users\\V61XNRQ\\AppData\\Local\\anaconda3\\envs\\full311\\Lib\\http\\client.py:1378\u001b[0m, in \u001b[0;36mHTTPConnection.getresponse\u001b[1;34m(self)\u001b[0m\n\u001b[0;32m   1376\u001b[0m \u001b[39mtry\u001b[39;00m:\n\u001b[0;32m   1377\u001b[0m     \u001b[39mtry\u001b[39;00m:\n\u001b[1;32m-> 1378\u001b[0m         response\u001b[39m.\u001b[39;49mbegin()\n\u001b[0;32m   1379\u001b[0m     \u001b[39mexcept\u001b[39;00m \u001b[39mConnectionError\u001b[39;00m:\n\u001b[0;32m   1380\u001b[0m         \u001b[39mself\u001b[39m\u001b[39m.\u001b[39mclose()\n",
      "File \u001b[1;32mc:\\Users\\V61XNRQ\\AppData\\Local\\anaconda3\\envs\\full311\\Lib\\http\\client.py:318\u001b[0m, in \u001b[0;36mHTTPResponse.begin\u001b[1;34m(self)\u001b[0m\n\u001b[0;32m    316\u001b[0m \u001b[39m# read until we get a non-100 response\u001b[39;00m\n\u001b[0;32m    317\u001b[0m \u001b[39mwhile\u001b[39;00m \u001b[39mTrue\u001b[39;00m:\n\u001b[1;32m--> 318\u001b[0m     version, status, reason \u001b[39m=\u001b[39m \u001b[39mself\u001b[39;49m\u001b[39m.\u001b[39;49m_read_status()\n\u001b[0;32m    319\u001b[0m     \u001b[39mif\u001b[39;00m status \u001b[39m!=\u001b[39m CONTINUE:\n\u001b[0;32m    320\u001b[0m         \u001b[39mbreak\u001b[39;00m\n",
      "File \u001b[1;32mc:\\Users\\V61XNRQ\\AppData\\Local\\anaconda3\\envs\\full311\\Lib\\http\\client.py:279\u001b[0m, in \u001b[0;36mHTTPResponse._read_status\u001b[1;34m(self)\u001b[0m\n\u001b[0;32m    278\u001b[0m \u001b[39mdef\u001b[39;00m \u001b[39m_read_status\u001b[39m(\u001b[39mself\u001b[39m):\n\u001b[1;32m--> 279\u001b[0m     line \u001b[39m=\u001b[39m \u001b[39mstr\u001b[39m(\u001b[39mself\u001b[39m\u001b[39m.\u001b[39mfp\u001b[39m.\u001b[39mreadline(_MAXLINE \u001b[39m+\u001b[39m \u001b[39m1\u001b[39m), \u001b[39m\"\u001b[39m\u001b[39miso-8859-1\u001b[39m\u001b[39m\"\u001b[39m)\n\u001b[0;32m    280\u001b[0m     \u001b[39mif\u001b[39;00m \u001b[39mlen\u001b[39m(line) \u001b[39m>\u001b[39m _MAXLINE:\n\u001b[0;32m    281\u001b[0m         \u001b[39mraise\u001b[39;00m LineTooLong(\u001b[39m\"\u001b[39m\u001b[39mstatus line\u001b[39m\u001b[39m\"\u001b[39m)\n",
      "File \u001b[1;32mc:\\Users\\V61XNRQ\\AppData\\Local\\anaconda3\\envs\\full311\\Lib\\socket.py:706\u001b[0m, in \u001b[0;36mSocketIO.readinto\u001b[1;34m(self, b)\u001b[0m\n\u001b[0;32m    704\u001b[0m \u001b[39mwhile\u001b[39;00m \u001b[39mTrue\u001b[39;00m:\n\u001b[0;32m    705\u001b[0m     \u001b[39mtry\u001b[39;00m:\n\u001b[1;32m--> 706\u001b[0m         \u001b[39mreturn\u001b[39;00m \u001b[39mself\u001b[39;49m\u001b[39m.\u001b[39;49m_sock\u001b[39m.\u001b[39;49mrecv_into(b)\n\u001b[0;32m    707\u001b[0m     \u001b[39mexcept\u001b[39;00m timeout:\n\u001b[0;32m    708\u001b[0m         \u001b[39mself\u001b[39m\u001b[39m.\u001b[39m_timeout_occurred \u001b[39m=\u001b[39m \u001b[39mTrue\u001b[39;00m\n",
      "\u001b[1;31mKeyboardInterrupt\u001b[0m: "
     ]
    }
   ],
   "source": [
    "%run collector/collector.py\n",
    "urls = [\n",
    "    \"https://accounts.hcaptcha.com/demo\",\n",
    "    \"https://nopecha.com/demo/hcaptcha\",\n",
    "    \"https://democaptcha.com/demo-form-eng/hcaptcha.html\",\n",
    "    \"https://freebitco.in/signup/?op=s\", \n",
    "    \"https://accounts.shopify.com/signup?rid=f8d4b2e6-f0fe-41ab-83e5-e633974bd42b&signup_strategy=password\",\n",
    "    \"https://www.dierenkliniekoudorp.nl/\",\n",
    "    \"https://cellar335.com/\",\n",
    "    \"https://www.salumificiovecchi.it/\",\n",
    "    \"https://economygarages.com/\",\n",
    "    \"https://www.assimilationdesigns.com/\"\n",
    "    \"https://raleighvehiclewraps.com/\"\n",
    "    ]\n",
    "collect_data(db1, urls[0], count=1000, collect_v2=True, limit=2000)"
   ]
  },
  {
   "cell_type": "code",
   "execution_count": null,
   "metadata": {},
   "outputs": [
    {
     "name": "stdout",
     "output_type": "stream",
     "text": [
      "Setting images for headphones\n",
      "Setting images for bonsai tree\n",
      "labeled bonsai tree/12-16-22-29-751605_0.png as True\n",
      "labeled bonsai tree/12-16-22-33-296307_7.png as True\n",
      "labeled bonsai tree/12-16-22-40-953300_0.png as False\n",
      "labeled bonsai tree/12-16-22-51-327629_1.png as False\n",
      "labeled bonsai tree/12-16-23-03-570926_1.png as False\n",
      "labeled bonsai tree/12-16-23-10-848513_1.png as False\n",
      "labeled bonsai tree/12-16-23-40-281236_7.png as False\n",
      "labeled bonsai tree/12-16-24-07-040025_0.png as True\n",
      "labeled bonsai tree/12-16-24-24-847494_6.png as True\n",
      "Setting images for bonsai tree\n",
      "labeled bonsai tree/12-16-22-40-086916_3.png as False\n",
      "labeled bonsai tree/12-16-22-40-086916_7.png as False\n",
      "labeled bonsai tree/12-16-23-12-541081_6.png as False\n",
      "labeled bonsai tree/12-16-23-40-281236_8.png as True\n",
      "labeled bonsai tree/12-16-23-44-917848_1.png as False\n",
      "labeled bonsai tree/12-16-24-04-576511_7.png as False\n",
      "labeled bonsai tree/12-16-24-07-040025_5.png as False\n",
      "labeled bonsai tree/12-16-24-15-947022_5.png as False\n",
      "labeled bonsai tree/12-16-24-19-668531_2.png as True\n",
      "Setting images for bonsai tree\n"
     ]
    },
    {
     "name": "stderr",
     "output_type": "stream",
     "text": [
      "C:\\Users\\V61XNRQ\\Desktop\\PERS\\hcaptcha-solver\\dev\\manual_classifier.py:113: FutureWarning: In a future version, object-dtype columns with all-bool values will not be included in reductions with bool_only=True. Explicitly cast to bool dtype instead.\n",
      "  self.id_history = pd.concat((self.id_history, pd.DataFrame({\"id\":self.image_paths, \"action\":self.selected_images})), ignore_index=True)\n"
     ]
    },
    {
     "name": "stdout",
     "output_type": "stream",
     "text": [
      "labeled bonsai tree/12-16-04-57-632259_7.png as True\n",
      "labeled bonsai tree/12-16-22-46-235955_3.png as False\n",
      "labeled bonsai tree/12-16-22-55-661477_3.png as False\n",
      "labeled bonsai tree/12-16-22-58-241892_1.png as False\n",
      "labeled bonsai tree/12-16-23-04-406374_8.png as False\n",
      "labeled bonsai tree/12-16-23-35-917312_5.png as False\n",
      "labeled bonsai tree/12-16-23-54-501771_2.png as False\n",
      "labeled bonsai tree/12-16-23-54-501771_7.png as False\n",
      "labeled bonsai tree/12-16-24-14-545031_6.png as True\n",
      "Setting images for bonsai tree\n"
     ]
    },
    {
     "name": "stderr",
     "output_type": "stream",
     "text": [
      "C:\\Users\\V61XNRQ\\Desktop\\PERS\\hcaptcha-solver\\dev\\manual_classifier.py:113: FutureWarning: In a future version, object-dtype columns with all-bool values will not be included in reductions with bool_only=True. Explicitly cast to bool dtype instead.\n",
      "  self.id_history = pd.concat((self.id_history, pd.DataFrame({\"id\":self.image_paths, \"action\":self.selected_images})), ignore_index=True)\n"
     ]
    },
    {
     "name": "stdout",
     "output_type": "stream",
     "text": [
      "labeled bonsai tree/12-16-04-53-298972_7.png as True\n",
      "labeled bonsai tree/12-16-22-44-511678_0.png as True\n",
      "labeled bonsai tree/12-16-22-52-187097_4.png as False\n",
      "labeled bonsai tree/12-16-22-55-661477_4.png as False\n",
      "labeled bonsai tree/12-16-23-15-981671_1.png as False\n",
      "labeled bonsai tree/12-16-23-24-275523_0.png as True\n",
      "labeled bonsai tree/12-16-23-24-275523_2.png as False\n",
      "labeled bonsai tree/12-16-24-14-545031_4.png as False\n",
      "labeled bonsai tree/12-16-24-17-737258_4.png as False\n",
      "Setting images for bonsai tree\n"
     ]
    },
    {
     "name": "stderr",
     "output_type": "stream",
     "text": [
      "C:\\Users\\V61XNRQ\\Desktop\\PERS\\hcaptcha-solver\\dev\\manual_classifier.py:113: FutureWarning: In a future version, object-dtype columns with all-bool values will not be included in reductions with bool_only=True. Explicitly cast to bool dtype instead.\n",
      "  self.id_history = pd.concat((self.id_history, pd.DataFrame({\"id\":self.image_paths, \"action\":self.selected_images})), ignore_index=True)\n"
     ]
    },
    {
     "name": "stdout",
     "output_type": "stream",
     "text": [
      "labeled bonsai tree/12-16-04-55-922178_8.png as False\n",
      "labeled bonsai tree/12-16-22-50-581158_2.png as True\n",
      "labeled bonsai tree/12-16-22-58-241892_2.png as True\n",
      "labeled bonsai tree/12-16-23-14-224529_1.png as False\n",
      "labeled bonsai tree/12-16-23-47-436103_3.png as False\n",
      "labeled bonsai tree/12-16-23-55-292030_6.png as True\n",
      "labeled bonsai tree/12-16-23-56-973894_5.png as True\n",
      "labeled bonsai tree/12-16-24-17-737258_1.png as False\n",
      "labeled bonsai tree/12-16-24-20-539043_2.png as True\n",
      "Setting images for bonsai tree\n"
     ]
    },
    {
     "name": "stderr",
     "output_type": "stream",
     "text": [
      "C:\\Users\\V61XNRQ\\Desktop\\PERS\\hcaptcha-solver\\dev\\manual_classifier.py:113: FutureWarning: In a future version, object-dtype columns with all-bool values will not be included in reductions with bool_only=True. Explicitly cast to bool dtype instead.\n",
      "  self.id_history = pd.concat((self.id_history, pd.DataFrame({\"id\":self.image_paths, \"action\":self.selected_images})), ignore_index=True)\n"
     ]
    },
    {
     "name": "stdout",
     "output_type": "stream",
     "text": [
      "labeled bonsai tree/12-16-22-34-134799_1.png as True\n",
      "labeled bonsai tree/12-16-22-43-549178_0.png as False\n",
      "labeled bonsai tree/12-16-22-47-028552_5.png as False\n",
      "labeled bonsai tree/12-16-22-47-910485_4.png as False\n",
      "labeled bonsai tree/12-16-22-55-661477_1.png as False\n",
      "labeled bonsai tree/12-16-23-03-570926_3.png as False\n",
      "labeled bonsai tree/12-16-23-12-541081_0.png as False\n",
      "labeled bonsai tree/12-16-23-21-754558_3.png as True\n",
      "labeled bonsai tree/12-16-23-32-584045_2.png as False\n",
      "Setting images for bonsai tree\n"
     ]
    },
    {
     "name": "stderr",
     "output_type": "stream",
     "text": [
      "C:\\Users\\V61XNRQ\\Desktop\\PERS\\hcaptcha-solver\\dev\\manual_classifier.py:113: FutureWarning: In a future version, object-dtype columns with all-bool values will not be included in reductions with bool_only=True. Explicitly cast to bool dtype instead.\n",
      "  self.id_history = pd.concat((self.id_history, pd.DataFrame({\"id\":self.image_paths, \"action\":self.selected_images})), ignore_index=True)\n"
     ]
    },
    {
     "name": "stdout",
     "output_type": "stream",
     "text": [
      "labeled bonsai tree/12-16-22-47-910485_3.png as False\n",
      "labeled bonsai tree/12-16-22-50-581158_7.png as False\n",
      "labeled bonsai tree/12-16-23-09-114606_0.png as False\n",
      "labeled bonsai tree/12-16-23-15-105969_5.png as True\n",
      "labeled bonsai tree/12-16-23-21-754558_2.png as False\n",
      "labeled bonsai tree/12-16-23-35-113864_8.png as True\n",
      "labeled bonsai tree/12-16-23-37-618962_7.png as False\n",
      "labeled bonsai tree/12-16-23-59-653084_3.png as False\n",
      "labeled bonsai tree/12-16-24-15-947022_8.png as True\n",
      "Setting images for bonsai tree\n"
     ]
    },
    {
     "name": "stderr",
     "output_type": "stream",
     "text": [
      "C:\\Users\\V61XNRQ\\Desktop\\PERS\\hcaptcha-solver\\dev\\manual_classifier.py:113: FutureWarning: In a future version, object-dtype columns with all-bool values will not be included in reductions with bool_only=True. Explicitly cast to bool dtype instead.\n",
      "  self.id_history = pd.concat((self.id_history, pd.DataFrame({\"id\":self.image_paths, \"action\":self.selected_images})), ignore_index=True)\n"
     ]
    },
    {
     "name": "stdout",
     "output_type": "stream",
     "text": [
      "labeled bonsai tree/12-16-04-57-632259_1.png as False\n",
      "labeled bonsai tree/12-16-22-34-134799_4.png as False\n",
      "labeled bonsai tree/12-16-23-15-105969_3.png as False\n",
      "labeled bonsai tree/12-16-23-22-591652_0.png as False\n",
      "labeled bonsai tree/12-16-23-45-728392_6.png as False\n",
      "labeled bonsai tree/12-16-23-55-292030_3.png as False\n",
      "labeled bonsai tree/12-16-24-02-813775_2.png as False\n",
      "labeled bonsai tree/12-16-24-02-813775_4.png as False\n",
      "labeled bonsai tree/12-16-24-24-847494_3.png as False\n",
      "Setting images for bonsai tree\n"
     ]
    },
    {
     "name": "stderr",
     "output_type": "stream",
     "text": [
      "C:\\Users\\V61XNRQ\\Desktop\\PERS\\hcaptcha-solver\\dev\\manual_classifier.py:113: FutureWarning: In a future version, object-dtype columns with all-bool values will not be included in reductions with bool_only=True. Explicitly cast to bool dtype instead.\n",
      "  self.id_history = pd.concat((self.id_history, pd.DataFrame({\"id\":self.image_paths, \"action\":self.selected_images})), ignore_index=True)\n"
     ]
    },
    {
     "name": "stdout",
     "output_type": "stream",
     "text": [
      "labeled bonsai tree/12-16-04-57-632259_6.png as False\n",
      "labeled bonsai tree/12-16-22-34-134799_5.png as False\n",
      "labeled bonsai tree/12-16-22-41-818559_1.png as False\n",
      "labeled bonsai tree/12-16-22-52-187097_2.png as False\n",
      "labeled bonsai tree/12-16-22-56-486920_2.png as True\n",
      "labeled bonsai tree/12-16-23-00-899605_3.png as True\n",
      "labeled bonsai tree/12-16-23-00-899605_8.png as False\n",
      "labeled bonsai tree/12-16-23-47-436103_5.png as True\n",
      "labeled bonsai tree/12-16-23-56-973894_0.png as False\n",
      "Setting images for bonsai tree\n"
     ]
    },
    {
     "name": "stderr",
     "output_type": "stream",
     "text": [
      "C:\\Users\\V61XNRQ\\Desktop\\PERS\\hcaptcha-solver\\dev\\manual_classifier.py:113: FutureWarning: In a future version, object-dtype columns with all-bool values will not be included in reductions with bool_only=True. Explicitly cast to bool dtype instead.\n",
      "  self.id_history = pd.concat((self.id_history, pd.DataFrame({\"id\":self.image_paths, \"action\":self.selected_images})), ignore_index=True)\n"
     ]
    },
    {
     "name": "stdout",
     "output_type": "stream",
     "text": [
      "labeled bonsai tree/12-16-23-00-025255_0.png as True\n",
      "labeled bonsai tree/12-16-23-00-025255_7.png as False\n",
      "labeled bonsai tree/12-16-23-11-697629_5.png as True\n",
      "labeled bonsai tree/12-16-23-15-981671_5.png as True\n",
      "labeled bonsai tree/12-16-23-19-963457_6.png as False\n",
      "labeled bonsai tree/12-16-23-22-591652_3.png as False\n",
      "labeled bonsai tree/12-16-23-26-943670_2.png as True\n",
      "labeled bonsai tree/12-16-23-43-917770_7.png as False\n",
      "labeled bonsai tree/12-16-23-44-917848_6.png as True\n",
      "Setting images for bonsai tree\n"
     ]
    },
    {
     "name": "stderr",
     "output_type": "stream",
     "text": [
      "C:\\Users\\V61XNRQ\\Desktop\\PERS\\hcaptcha-solver\\dev\\manual_classifier.py:113: FutureWarning: In a future version, object-dtype columns with all-bool values will not be included in reductions with bool_only=True. Explicitly cast to bool dtype instead.\n",
      "  self.id_history = pd.concat((self.id_history, pd.DataFrame({\"id\":self.image_paths, \"action\":self.selected_images})), ignore_index=True)\n"
     ]
    },
    {
     "name": "stdout",
     "output_type": "stream",
     "text": [
      "labeled bonsai tree/12-16-22-29-751605_2.png as True\n",
      "labeled bonsai tree/12-16-22-30-729197_8.png as False\n",
      "labeled bonsai tree/12-16-22-34-134799_2.png as True\n",
      "labeled bonsai tree/12-16-22-41-818559_8.png as False\n",
      "labeled bonsai tree/12-16-22-46-235955_1.png as True\n",
      "labeled bonsai tree/12-16-22-47-910485_2.png as False\n",
      "labeled bonsai tree/12-16-23-00-025255_5.png as False\n",
      "labeled bonsai tree/12-16-23-40-281236_3.png as False\n",
      "labeled bonsai tree/12-16-24-21-370678_4.png as True\n",
      "Setting images for bonsai tree\n"
     ]
    },
    {
     "name": "stderr",
     "output_type": "stream",
     "text": [
      "C:\\Users\\V61XNRQ\\Desktop\\PERS\\hcaptcha-solver\\dev\\manual_classifier.py:113: FutureWarning: In a future version, object-dtype columns with all-bool values will not be included in reductions with bool_only=True. Explicitly cast to bool dtype instead.\n",
      "  self.id_history = pd.concat((self.id_history, pd.DataFrame({\"id\":self.image_paths, \"action\":self.selected_images})), ignore_index=True)\n"
     ]
    },
    {
     "name": "stdout",
     "output_type": "stream",
     "text": [
      "labeled bonsai tree/12-16-22-40-953300_4.png as False\n",
      "labeled bonsai tree/12-16-22-44-511678_4.png as False\n",
      "labeled bonsai tree/12-16-22-47-910485_5.png as False\n",
      "labeled bonsai tree/12-16-23-09-114606_6.png as True\n",
      "labeled bonsai tree/12-16-23-19-963457_4.png as False\n",
      "labeled bonsai tree/12-16-23-49-155765_7.png as False\n",
      "labeled bonsai tree/12-16-24-02-813775_6.png as True\n",
      "labeled bonsai tree/12-16-24-14-545031_7.png as False\n",
      "labeled bonsai tree/12-16-24-24-847494_5.png as False\n",
      "Setting images for bonsai tree\n"
     ]
    },
    {
     "name": "stderr",
     "output_type": "stream",
     "text": [
      "C:\\Users\\V61XNRQ\\Desktop\\PERS\\hcaptcha-solver\\dev\\manual_classifier.py:113: FutureWarning: In a future version, object-dtype columns with all-bool values will not be included in reductions with bool_only=True. Explicitly cast to bool dtype instead.\n",
      "  self.id_history = pd.concat((self.id_history, pd.DataFrame({\"id\":self.image_paths, \"action\":self.selected_images})), ignore_index=True)\n"
     ]
    },
    {
     "name": "stdout",
     "output_type": "stream",
     "text": [
      "labeled bonsai tree/12-16-22-30-729197_0.png as False\n",
      "labeled bonsai tree/12-16-22-37-428961_3.png as False\n",
      "labeled bonsai tree/12-16-22-37-428961_6.png as False\n",
      "labeled bonsai tree/12-16-22-51-327629_3.png as False\n",
      "labeled bonsai tree/12-16-23-25-169172_3.png as True\n",
      "labeled bonsai tree/12-16-23-35-113864_5.png as False\n",
      "labeled bonsai tree/12-16-23-53-621166_2.png as False\n",
      "labeled bonsai tree/12-16-24-16-927034_7.png as False\n",
      "labeled bonsai tree/12-16-24-20-539043_5.png as False\n",
      "Setting images for bonsai tree\n"
     ]
    },
    {
     "name": "stderr",
     "output_type": "stream",
     "text": [
      "C:\\Users\\V61XNRQ\\Desktop\\PERS\\hcaptcha-solver\\dev\\manual_classifier.py:113: FutureWarning: In a future version, object-dtype columns with all-bool values will not be included in reductions with bool_only=True. Explicitly cast to bool dtype instead.\n",
      "  self.id_history = pd.concat((self.id_history, pd.DataFrame({\"id\":self.image_paths, \"action\":self.selected_images})), ignore_index=True)\n"
     ]
    },
    {
     "name": "stdout",
     "output_type": "stream",
     "text": [
      "labeled bonsai tree/12-16-04-54-182884_2.png as False\n",
      "labeled bonsai tree/12-16-04-57-632259_8.png as False\n",
      "labeled bonsai tree/12-16-22-45-346272_2.png as False\n",
      "labeled bonsai tree/12-16-22-46-235955_4.png as False\n",
      "labeled bonsai tree/12-16-23-09-114606_1.png as True\n",
      "labeled bonsai tree/12-16-23-14-224529_2.png as False\n",
      "labeled bonsai tree/12-16-23-48-252570_2.png as False\n",
      "labeled bonsai tree/12-16-24-20-539043_1.png as False\n",
      "labeled bonsai tree/12-16-24-23-052293_6.png as False\n",
      "Setting images for bonsai tree\n"
     ]
    },
    {
     "name": "stderr",
     "output_type": "stream",
     "text": [
      "C:\\Users\\V61XNRQ\\Desktop\\PERS\\hcaptcha-solver\\dev\\manual_classifier.py:113: FutureWarning: In a future version, object-dtype columns with all-bool values will not be included in reductions with bool_only=True. Explicitly cast to bool dtype instead.\n",
      "  self.id_history = pd.concat((self.id_history, pd.DataFrame({\"id\":self.image_paths, \"action\":self.selected_images})), ignore_index=True)\n"
     ]
    },
    {
     "name": "stdout",
     "output_type": "stream",
     "text": [
      "labeled bonsai tree/12-16-23-00-899605_7.png as False\n",
      "labeled bonsai tree/12-16-23-04-406374_5.png as False\n",
      "labeled bonsai tree/12-16-23-10-848513_0.png as False\n",
      "labeled bonsai tree/12-16-23-25-169172_8.png as False\n",
      "labeled bonsai tree/12-16-23-27-829418_5.png as False\n",
      "labeled bonsai tree/12-16-23-44-917848_4.png as False\n",
      "labeled bonsai tree/12-16-24-07-040025_4.png as False\n",
      "labeled bonsai tree/12-16-24-19-668531_6.png as False\n",
      "labeled bonsai tree/12-16-24-20-539043_3.png as False\n",
      "Setting images for bonsai tree\n"
     ]
    },
    {
     "name": "stderr",
     "output_type": "stream",
     "text": [
      "C:\\Users\\V61XNRQ\\Desktop\\PERS\\hcaptcha-solver\\dev\\manual_classifier.py:113: FutureWarning: In a future version, object-dtype columns with all-bool values will not be included in reductions with bool_only=True. Explicitly cast to bool dtype instead.\n",
      "  self.id_history = pd.concat((self.id_history, pd.DataFrame({\"id\":self.image_paths, \"action\":self.selected_images})), ignore_index=True)\n"
     ]
    },
    {
     "name": "stdout",
     "output_type": "stream",
     "text": [
      "labeled bonsai tree/12-16-22-29-751605_4.png as False\n",
      "labeled bonsai tree/12-16-22-33-296307_0.png as False\n",
      "labeled bonsai tree/12-16-22-39-264234_1.png as True\n",
      "labeled bonsai tree/12-16-22-40-086916_8.png as False\n",
      "labeled bonsai tree/12-16-22-52-187097_3.png as False\n",
      "labeled bonsai tree/12-16-23-46-656697_6.png as False\n",
      "labeled bonsai tree/12-16-24-05-387269_7.png as False\n",
      "labeled bonsai tree/12-16-24-07-040025_7.png as False\n",
      "labeled bonsai tree/12-16-24-17-737258_3.png as True\n",
      "Setting images for bonsai tree\n"
     ]
    },
    {
     "name": "stderr",
     "output_type": "stream",
     "text": [
      "C:\\Users\\V61XNRQ\\Desktop\\PERS\\hcaptcha-solver\\dev\\manual_classifier.py:113: FutureWarning: In a future version, object-dtype columns with all-bool values will not be included in reductions with bool_only=True. Explicitly cast to bool dtype instead.\n",
      "  self.id_history = pd.concat((self.id_history, pd.DataFrame({\"id\":self.image_paths, \"action\":self.selected_images})), ignore_index=True)\n"
     ]
    },
    {
     "name": "stdout",
     "output_type": "stream",
     "text": [
      "labeled bonsai tree/12-16-04-57-632259_0.png as False\n",
      "labeled bonsai tree/12-16-04-57-632259_4.png as True\n",
      "labeled bonsai tree/12-16-22-34-134799_0.png as False\n",
      "labeled bonsai tree/12-16-22-37-428961_5.png as False\n",
      "labeled bonsai tree/12-16-22-39-264234_2.png as False\n",
      "labeled bonsai tree/12-16-22-46-235955_8.png as False\n",
      "labeled bonsai tree/12-16-23-10-848513_6.png as False\n",
      "labeled bonsai tree/12-16-23-11-697629_6.png as True\n",
      "labeled bonsai tree/12-16-24-20-539043_0.png as False\n",
      "Setting images for bonsai tree\n"
     ]
    },
    {
     "name": "stderr",
     "output_type": "stream",
     "text": [
      "C:\\Users\\V61XNRQ\\Desktop\\PERS\\hcaptcha-solver\\dev\\manual_classifier.py:113: FutureWarning: In a future version, object-dtype columns with all-bool values will not be included in reductions with bool_only=True. Explicitly cast to bool dtype instead.\n",
      "  self.id_history = pd.concat((self.id_history, pd.DataFrame({\"id\":self.image_paths, \"action\":self.selected_images})), ignore_index=True)\n"
     ]
    },
    {
     "name": "stdout",
     "output_type": "stream",
     "text": [
      "labeled bonsai tree/12-16-22-29-751605_6.png as False\n",
      "labeled bonsai tree/12-16-22-34-134799_3.png as False\n",
      "labeled bonsai tree/12-16-22-44-511678_1.png as False\n",
      "labeled bonsai tree/12-16-22-47-028552_1.png as True\n",
      "labeled bonsai tree/12-16-23-44-917848_3.png as True\n",
      "labeled bonsai tree/12-16-23-52-746745_1.png as False\n",
      "labeled bonsai tree/12-16-24-05-387269_2.png as False\n",
      "labeled bonsai tree/12-16-24-24-005989_6.png as False\n",
      "labeled bonsai tree/12-16-24-24-847494_8.png as False\n",
      "Setting images for bonsai tree\n"
     ]
    },
    {
     "name": "stderr",
     "output_type": "stream",
     "text": [
      "C:\\Users\\V61XNRQ\\Desktop\\PERS\\hcaptcha-solver\\dev\\manual_classifier.py:113: FutureWarning: In a future version, object-dtype columns with all-bool values will not be included in reductions with bool_only=True. Explicitly cast to bool dtype instead.\n",
      "  self.id_history = pd.concat((self.id_history, pd.DataFrame({\"id\":self.image_paths, \"action\":self.selected_images})), ignore_index=True)\n"
     ]
    },
    {
     "name": "stdout",
     "output_type": "stream",
     "text": [
      "labeled bonsai tree/12-16-22-33-296307_6.png as False\n",
      "labeled bonsai tree/12-16-22-43-549178_7.png as False\n",
      "labeled bonsai tree/12-16-23-10-848513_5.png as False\n",
      "labeled bonsai tree/12-16-23-25-169172_6.png as False\n",
      "labeled bonsai tree/12-16-23-35-917312_4.png as False\n",
      "labeled bonsai tree/12-16-23-49-155765_8.png as True\n",
      "labeled bonsai tree/12-16-23-55-292030_1.png as False\n",
      "labeled bonsai tree/12-16-24-04-576511_3.png as True\n",
      "labeled bonsai tree/12-16-24-15-947022_2.png as False\n",
      "Setting images for bonsai tree\n"
     ]
    },
    {
     "name": "stderr",
     "output_type": "stream",
     "text": [
      "C:\\Users\\V61XNRQ\\Desktop\\PERS\\hcaptcha-solver\\dev\\manual_classifier.py:113: FutureWarning: In a future version, object-dtype columns with all-bool values will not be included in reductions with bool_only=True. Explicitly cast to bool dtype instead.\n",
      "  self.id_history = pd.concat((self.id_history, pd.DataFrame({\"id\":self.image_paths, \"action\":self.selected_images})), ignore_index=True)\n"
     ]
    },
    {
     "name": "stdout",
     "output_type": "stream",
     "text": [
      "labeled bonsai tree/12-16-22-40-953300_8.png as True\n",
      "labeled bonsai tree/12-16-22-41-818559_2.png as False\n",
      "labeled bonsai tree/12-16-22-51-327629_2.png as True\n",
      "labeled bonsai tree/12-16-22-53-923083_7.png as True\n",
      "labeled bonsai tree/12-16-23-04-406374_0.png as True\n",
      "labeled bonsai tree/12-16-23-11-697629_3.png as False\n",
      "labeled bonsai tree/12-16-23-32-584045_5.png as False\n",
      "labeled bonsai tree/12-16-23-35-917312_8.png as False\n",
      "labeled bonsai tree/12-16-23-43-917770_1.png as True\n",
      "Setting images for bonsai tree\n"
     ]
    },
    {
     "name": "stderr",
     "output_type": "stream",
     "text": [
      "C:\\Users\\V61XNRQ\\Desktop\\PERS\\hcaptcha-solver\\dev\\manual_classifier.py:113: FutureWarning: In a future version, object-dtype columns with all-bool values will not be included in reductions with bool_only=True. Explicitly cast to bool dtype instead.\n",
      "  self.id_history = pd.concat((self.id_history, pd.DataFrame({\"id\":self.image_paths, \"action\":self.selected_images})), ignore_index=True)\n"
     ]
    },
    {
     "name": "stdout",
     "output_type": "stream",
     "text": [
      "labeled bonsai tree/12-16-22-58-241892_4.png as True\n",
      "labeled bonsai tree/12-16-22-58-241892_7.png as False\n",
      "labeled bonsai tree/12-16-23-00-899605_1.png as True\n",
      "labeled bonsai tree/12-16-23-15-105969_7.png as False\n",
      "labeled bonsai tree/12-16-23-22-591652_1.png as False\n",
      "labeled bonsai tree/12-16-23-40-281236_4.png as False\n",
      "labeled bonsai tree/12-16-23-49-155765_2.png as False\n",
      "labeled bonsai tree/12-16-23-56-973894_4.png as False\n",
      "labeled bonsai tree/12-16-24-04-576511_2.png as False\n",
      "Setting images for bonsai tree\n"
     ]
    },
    {
     "name": "stderr",
     "output_type": "stream",
     "text": [
      "C:\\Users\\V61XNRQ\\Desktop\\PERS\\hcaptcha-solver\\dev\\manual_classifier.py:113: FutureWarning: In a future version, object-dtype columns with all-bool values will not be included in reductions with bool_only=True. Explicitly cast to bool dtype instead.\n",
      "  self.id_history = pd.concat((self.id_history, pd.DataFrame({\"id\":self.image_paths, \"action\":self.selected_images})), ignore_index=True)\n"
     ]
    },
    {
     "name": "stdout",
     "output_type": "stream",
     "text": [
      "labeled bonsai tree/12-16-22-37-428961_4.png as True\n",
      "labeled bonsai tree/12-16-22-39-264234_4.png as True\n",
      "labeled bonsai tree/12-16-22-53-028209_1.png as True\n",
      "labeled bonsai tree/12-16-22-55-661477_6.png as False\n",
      "labeled bonsai tree/12-16-23-15-105969_4.png as False\n",
      "labeled bonsai tree/12-16-23-45-728392_5.png as True\n",
      "labeled bonsai tree/12-16-23-47-436103_2.png as False\n",
      "labeled bonsai tree/12-16-23-55-292030_2.png as False\n",
      "labeled bonsai tree/12-16-24-16-927034_6.png as True\n",
      "Setting images for bonsai tree\n"
     ]
    },
    {
     "name": "stderr",
     "output_type": "stream",
     "text": [
      "C:\\Users\\V61XNRQ\\Desktop\\PERS\\hcaptcha-solver\\dev\\manual_classifier.py:113: FutureWarning: In a future version, object-dtype columns with all-bool values will not be included in reductions with bool_only=True. Explicitly cast to bool dtype instead.\n",
      "  self.id_history = pd.concat((self.id_history, pd.DataFrame({\"id\":self.image_paths, \"action\":self.selected_images})), ignore_index=True)\n"
     ]
    }
   ],
   "source": [
    "%run manual_classifier.py\n",
    "mc = Manual_Classifier(db1)"
   ]
  },
  {
   "cell_type": "code",
   "execution_count": null,
   "metadata": {},
   "outputs": [],
   "source": [
    "%run vilt.py\n",
    "vilt = Vilt_Classifier()"
   ]
  },
  {
   "cell_type": "code",
   "execution_count": null,
   "metadata": {},
   "outputs": [],
   "source": [
    "vilt_accuracy = pd.concat((info, vilt.get_accuracy_for_all_captchas(db1)), axis=1)\n",
    "plot_model_accuracy(vilt_accuracy, figsize=(4,10))"
   ]
  }
 ],
 "metadata": {
  "kernelspec": {
   "display_name": "Python 3",
   "language": "python",
   "name": "python3"
  },
  "language_info": {
   "codemirror_mode": {
    "name": "ipython",
    "version": 3
   },
   "file_extension": ".py",
   "mimetype": "text/x-python",
   "name": "python",
   "nbconvert_exporter": "python",
   "pygments_lexer": "ipython3",
   "version": "3.11.4"
  },
  "orig_nbformat": 4
 },
 "nbformat": 4,
 "nbformat_minor": 2
}
