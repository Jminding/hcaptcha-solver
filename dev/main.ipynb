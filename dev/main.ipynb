{
 "cells": [
  {
   "cell_type": "code",
   "execution_count": null,
   "metadata": {},
   "outputs": [],
   "source": [
    "import pandas as pd\n",
    "import numpy as np\n",
    "import os"
   ]
  },
  {
   "cell_type": "code",
   "execution_count": 42,
   "metadata": {},
   "outputs": [
    {
     "data": {
      "text/html": [
       "<div>\n",
       "<style scoped>\n",
       "    .dataframe tbody tr th:only-of-type {\n",
       "        vertical-align: middle;\n",
       "    }\n",
       "\n",
       "    .dataframe tbody tr th {\n",
       "        vertical-align: top;\n",
       "    }\n",
       "\n",
       "    .dataframe thead th {\n",
       "        text-align: right;\n",
       "    }\n",
       "</style>\n",
       "<table border=\"1\" class=\"dataframe\">\n",
       "  <thead>\n",
       "    <tr style=\"text-align: right;\">\n",
       "      <th></th>\n",
       "      <th>total</th>\n",
       "      <th>solved</th>\n",
       "      <th>unsolved</th>\n",
       "    </tr>\n",
       "  </thead>\n",
       "  <tbody>\n",
       "    <tr>\n",
       "      <th>bonsai tree</th>\n",
       "      <td>1235</td>\n",
       "      <td>642</td>\n",
       "      <td>593</td>\n",
       "    </tr>\n",
       "    <tr>\n",
       "      <th>cup of orange juice</th>\n",
       "      <td>1046</td>\n",
       "      <td>544</td>\n",
       "      <td>502</td>\n",
       "    </tr>\n",
       "    <tr>\n",
       "      <th>laptop</th>\n",
       "      <td>1120</td>\n",
       "      <td>501</td>\n",
       "      <td>619</td>\n",
       "    </tr>\n",
       "    <tr>\n",
       "      <th>flower</th>\n",
       "      <td>1670</td>\n",
       "      <td>500</td>\n",
       "      <td>1170</td>\n",
       "    </tr>\n",
       "    <tr>\n",
       "      <th>tree</th>\n",
       "      <td>2008</td>\n",
       "      <td>464</td>\n",
       "      <td>1544</td>\n",
       "    </tr>\n",
       "    <tr>\n",
       "      <th>car</th>\n",
       "      <td>1493</td>\n",
       "      <td>359</td>\n",
       "      <td>1134</td>\n",
       "    </tr>\n",
       "    <tr>\n",
       "      <th>motorcycle</th>\n",
       "      <td>1335</td>\n",
       "      <td>309</td>\n",
       "      <td>1026</td>\n",
       "    </tr>\n",
       "    <tr>\n",
       "      <th>headphones</th>\n",
       "      <td>586</td>\n",
       "      <td>245</td>\n",
       "      <td>341</td>\n",
       "    </tr>\n",
       "    <tr>\n",
       "      <th>helicopter</th>\n",
       "      <td>242</td>\n",
       "      <td>242</td>\n",
       "      <td>0</td>\n",
       "    </tr>\n",
       "    <tr>\n",
       "      <th>violin</th>\n",
       "      <td>249</td>\n",
       "      <td>235</td>\n",
       "      <td>14</td>\n",
       "    </tr>\n",
       "    <tr>\n",
       "      <th>goose</th>\n",
       "      <td>167</td>\n",
       "      <td>158</td>\n",
       "      <td>9</td>\n",
       "    </tr>\n",
       "    <tr>\n",
       "      <th>robot</th>\n",
       "      <td>88</td>\n",
       "      <td>0</td>\n",
       "      <td>88</td>\n",
       "    </tr>\n",
       "    <tr>\n",
       "      <th>fruit</th>\n",
       "      <td>72</td>\n",
       "      <td>0</td>\n",
       "      <td>72</td>\n",
       "    </tr>\n",
       "    <tr>\n",
       "      <th>zebra</th>\n",
       "      <td>10</td>\n",
       "      <td>0</td>\n",
       "      <td>10</td>\n",
       "    </tr>\n",
       "    <tr>\n",
       "      <th>cat</th>\n",
       "      <td>9</td>\n",
       "      <td>0</td>\n",
       "      <td>9</td>\n",
       "    </tr>\n",
       "    <tr>\n",
       "      <th>crumpled paper ball</th>\n",
       "      <td>9</td>\n",
       "      <td>0</td>\n",
       "      <td>9</td>\n",
       "    </tr>\n",
       "  </tbody>\n",
       "</table>\n",
       "</div>"
      ],
      "text/plain": [
       "                     total  solved  unsolved\n",
       "bonsai tree           1235     642       593\n",
       "cup of orange juice   1046     544       502\n",
       "laptop                1120     501       619\n",
       "flower                1670     500      1170\n",
       "tree                  2008     464      1544\n",
       "car                   1493     359      1134\n",
       "motorcycle            1335     309      1026\n",
       "headphones             586     245       341\n",
       "helicopter             242     242         0\n",
       "violin                 249     235        14\n",
       "goose                  167     158         9\n",
       "robot                   88       0        88\n",
       "fruit                   72       0        72\n",
       "zebra                   10       0        10\n",
       "cat                      9       0         9\n",
       "crumpled paper ball      9       0         9"
      ]
     },
     "execution_count": 42,
     "metadata": {},
     "output_type": "execute_result"
    }
   ],
   "source": [
    "%run sqlite_execution.py\n",
    "db1 = DB_V1()\n",
    "# db1.drop_duplicates()\n",
    "# db1.cur.execute(\"UPDATE captchas_v1 SET captcha_string = 'headphones' WHERE captcha_string = 'Please click each image containing headphones'\")\n",
    "# db1.cur.execute(\"UPDATE captchas_v1 SET file_path = REPLACE(file_path, 'Please click each image containing headphones', 'headphones')\")\n",
    "# db1.commit()\n",
    "info = db1.get_info()\n",
    "info"
   ]
  },
  {
   "cell_type": "code",
   "execution_count": 43,
   "metadata": {},
   "outputs": [
    {
     "data": {
      "text/html": [
       "<div>\n",
       "<style scoped>\n",
       "    .dataframe tbody tr th:only-of-type {\n",
       "        vertical-align: middle;\n",
       "    }\n",
       "\n",
       "    .dataframe tbody tr th {\n",
       "        vertical-align: top;\n",
       "    }\n",
       "\n",
       "    .dataframe thead th {\n",
       "        text-align: right;\n",
       "    }\n",
       "</style>\n",
       "<table border=\"1\" class=\"dataframe\">\n",
       "  <thead>\n",
       "    <tr style=\"text-align: right;\">\n",
       "      <th></th>\n",
       "      <th>date</th>\n",
       "      <th>path</th>\n",
       "      <th>train_samples</th>\n",
       "      <th>test_samples</th>\n",
       "      <th>accuracy</th>\n",
       "      <th>better_than_90</th>\n",
       "      <th>better_than_95</th>\n",
       "    </tr>\n",
       "  </thead>\n",
       "  <tbody>\n",
       "    <tr>\n",
       "      <th>laptop</th>\n",
       "      <td>2023-08-15</td>\n",
       "      <td>laptop/23-227_02</td>\n",
       "      <td>368</td>\n",
       "      <td>133</td>\n",
       "      <td>0.954887</td>\n",
       "      <td>0.99344</td>\n",
       "      <td>0.658332</td>\n",
       "    </tr>\n",
       "  </tbody>\n",
       "</table>\n",
       "</div>"
      ],
      "text/plain": [
       "              date              path  train_samples  test_samples  accuracy  \\\n",
       "laptop  2023-08-15  laptop/23-227_02            368           133  0.954887   \n",
       "\n",
       "        better_than_90  better_than_95  \n",
       "laptop         0.99344        0.658332  "
      ]
     },
     "execution_count": 43,
     "metadata": {},
     "output_type": "execute_result"
    }
   ],
   "source": [
    "db1.get_model_info()"
   ]
  },
  {
   "cell_type": "code",
   "execution_count": null,
   "metadata": {},
   "outputs": [],
   "source": [
    "%run visualizer.py\n",
    "plot_captcha_info(info, figsize=(4,10))"
   ]
  },
  {
   "cell_type": "code",
   "execution_count": null,
   "metadata": {},
   "outputs": [],
   "source": [
    "%run collector/collector.py\n",
    "urls = [\n",
    "    \"https://accounts.hcaptcha.com/demo\",\n",
    "    \"https://nopecha.com/demo/hcaptcha\",\n",
    "    \"https://democaptcha.com/demo-form-eng/hcaptcha.html\",\n",
    "    \"https://freebitco.in/signup/?op=s\", \n",
    "    \"https://accounts.shopify.com/signup?rid=f8d4b2e6-f0fe-41ab-83e5-e633974bd42b&signup_strategy=password\",\n",
    "    \"https://www.dierenkliniekoudorp.nl/\",\n",
    "    \"https://cellar335.com/\",\n",
    "    \"https://www.salumificiovecchi.it/\",\n",
    "    \"https://economygarages.com/\",\n",
    "    \"https://www.assimilationdesigns.com/\"\n",
    "    \"https://raleighvehiclewraps.com/\"\n",
    "    ]\n",
    "collect_data(db1, urls[0], count=100, collect_v2=True, limit=2000)"
   ]
  },
  {
   "cell_type": "code",
   "execution_count": null,
   "metadata": {},
   "outputs": [],
   "source": [
    "assert 1 == 0 # to avoid execution of code below"
   ]
  },
  {
   "cell_type": "code",
   "execution_count": 40,
   "metadata": {},
   "outputs": [
    {
     "name": "stdout",
     "output_type": "stream",
     "text": [
      "Training model on laptop...\n",
      "Fount 501 useable images\n",
      "x shape: (501, 3, 128, 128)\n",
      "y shape: (501, 1)\n",
      "train size: 368, test size: 133\n",
      "single element shape: torch.Size([3, 128, 128])\n",
      "Epoch: 1, Test Loss: 0.0042, Accuracy: 97/133, 72.93%\n",
      "Epoch: 2, Test Loss: 0.0042, Accuracy: 97/133, 72.93%\n",
      "Epoch: 3, Test Loss: 0.0033, Accuracy: 97/133, 72.93%\n",
      "Epoch: 4, Test Loss: 0.0024, Accuracy: 115/133, 86.47%\n",
      "Epoch: 5, Test Loss: 0.0020, Accuracy: 124/133, 93.23%\n",
      "Epoch: 6, Test Loss: 0.0020, Accuracy: 123/133, 92.48%\n",
      "Epoch: 7, Test Loss: 0.0013, Accuracy: 128/133, 96.24%\n",
      "Epoch: 8, Test Loss: 0.0013, Accuracy: 125/133, 93.98%\n",
      "Epoch: 9, Test Loss: 0.0011, Accuracy: 127/133, 95.49%\n",
      "Epoch: 10, Test Loss: 0.0011, Accuracy: 127/133, 95.49%\n",
      "Saved model to ../data/models/laptop/23-227_02\n"
     ]
    }
   ],
   "source": [
    "%run pytorch_training.py\n",
    "train_model_on_captcha_string(db1, \"laptop\", save=True, epochs=10)\n",
    "# train_models_on_all_captcha_strings(db1, threshold=200, save=True)"
   ]
  },
  {
   "cell_type": "code",
   "execution_count": null,
   "metadata": {},
   "outputs": [],
   "source": [
    "%run pytorch_training.py\n",
    "model_accuracy = test_models_on_all_captcha_strings(db1)"
   ]
  },
  {
   "cell_type": "code",
   "execution_count": null,
   "metadata": {},
   "outputs": [],
   "source": [
    "%run visualizer.py\n",
    "plot_model_accuracy(model_accuracy, figsize=(4,10))"
   ]
  },
  {
   "cell_type": "code",
   "execution_count": null,
   "metadata": {},
   "outputs": [],
   "source": [
    "%run manual_classifier.py\n",
    "mc = Manual_Classifier(db1)"
   ]
  },
  {
   "cell_type": "code",
   "execution_count": null,
   "metadata": {},
   "outputs": [],
   "source": [
    "%run vilt.py\n",
    "vilt = Vilt_Classifier()"
   ]
  },
  {
   "cell_type": "code",
   "execution_count": null,
   "metadata": {},
   "outputs": [],
   "source": [
    "vilt_accuracy = pd.concat((info, vilt.get_accuracy_for_all_captchas(db1)), axis=1)\n",
    "plot_model_accuracy(vilt_accuracy, figsize=(4,10))"
   ]
  }
 ],
 "metadata": {
  "kernelspec": {
   "display_name": "Python 3",
   "language": "python",
   "name": "python3"
  },
  "language_info": {
   "codemirror_mode": {
    "name": "ipython",
    "version": 3
   },
   "file_extension": ".py",
   "mimetype": "text/x-python",
   "name": "python",
   "nbconvert_exporter": "python",
   "pygments_lexer": "ipython3",
   "version": "3.11.3"
  },
  "orig_nbformat": 4
 },
 "nbformat": 4,
 "nbformat_minor": 2
}
