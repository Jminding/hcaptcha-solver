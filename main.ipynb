{
 "cells": [
  {
   "cell_type": "code",
   "execution_count": 8,
   "metadata": {},
   "outputs": [],
   "source": [
    "import pandas as pd\n",
    "import numpy as np\n",
    "import os"
   ]
  },
  {
   "cell_type": "code",
   "execution_count": 9,
   "metadata": {},
   "outputs": [
    {
     "data": {
      "text/html": [
       "<div>\n",
       "<style scoped>\n",
       "    .dataframe tbody tr th:only-of-type {\n",
       "        vertical-align: middle;\n",
       "    }\n",
       "\n",
       "    .dataframe tbody tr th {\n",
       "        vertical-align: top;\n",
       "    }\n",
       "\n",
       "    .dataframe thead th {\n",
       "        text-align: right;\n",
       "    }\n",
       "</style>\n",
       "<table border=\"1\" class=\"dataframe\">\n",
       "  <thead>\n",
       "    <tr style=\"text-align: right;\">\n",
       "      <th></th>\n",
       "      <th>total</th>\n",
       "      <th>solved</th>\n",
       "      <th>unsolved</th>\n",
       "    </tr>\n",
       "  </thead>\n",
       "  <tbody>\n",
       "    <tr>\n",
       "      <th>flower</th>\n",
       "      <td>1683</td>\n",
       "      <td>464</td>\n",
       "      <td>1219</td>\n",
       "    </tr>\n",
       "    <tr>\n",
       "      <th>helicopter</th>\n",
       "      <td>242</td>\n",
       "      <td>240</td>\n",
       "      <td>2</td>\n",
       "    </tr>\n",
       "    <tr>\n",
       "      <th>motorcycle</th>\n",
       "      <td>1133</td>\n",
       "      <td>210</td>\n",
       "      <td>923</td>\n",
       "    </tr>\n",
       "    <tr>\n",
       "      <th>car</th>\n",
       "      <td>590</td>\n",
       "      <td>180</td>\n",
       "      <td>410</td>\n",
       "    </tr>\n",
       "    <tr>\n",
       "      <th>bonsai tree</th>\n",
       "      <td>425</td>\n",
       "      <td>156</td>\n",
       "      <td>269</td>\n",
       "    </tr>\n",
       "    <tr>\n",
       "      <th>laptop</th>\n",
       "      <td>1136</td>\n",
       "      <td>132</td>\n",
       "      <td>1004</td>\n",
       "    </tr>\n",
       "    <tr>\n",
       "      <th>goose</th>\n",
       "      <td>56</td>\n",
       "      <td>42</td>\n",
       "      <td>14</td>\n",
       "    </tr>\n",
       "    <tr>\n",
       "      <th>cat</th>\n",
       "      <td>9</td>\n",
       "      <td>0</td>\n",
       "      <td>9</td>\n",
       "    </tr>\n",
       "    <tr>\n",
       "      <th>crumpled paper ball</th>\n",
       "      <td>9</td>\n",
       "      <td>0</td>\n",
       "      <td>9</td>\n",
       "    </tr>\n",
       "    <tr>\n",
       "      <th>robot</th>\n",
       "      <td>62</td>\n",
       "      <td>0</td>\n",
       "      <td>62</td>\n",
       "    </tr>\n",
       "    <tr>\n",
       "      <th>violin</th>\n",
       "      <td>30</td>\n",
       "      <td>0</td>\n",
       "      <td>30</td>\n",
       "    </tr>\n",
       "    <tr>\n",
       "      <th>zebra</th>\n",
       "      <td>10</td>\n",
       "      <td>0</td>\n",
       "      <td>10</td>\n",
       "    </tr>\n",
       "  </tbody>\n",
       "</table>\n",
       "</div>"
      ],
      "text/plain": [
       "                     total  solved  unsolved\n",
       "flower                1683     464      1219\n",
       "helicopter             242     240         2\n",
       "motorcycle            1133     210       923\n",
       "car                    590     180       410\n",
       "bonsai tree            425     156       269\n",
       "laptop                1136     132      1004\n",
       "goose                   56      42        14\n",
       "cat                      9       0         9\n",
       "crumpled paper ball      9       0         9\n",
       "robot                   62       0        62\n",
       "violin                  30       0        30\n",
       "zebra                   10       0        10"
      ]
     },
     "execution_count": 9,
     "metadata": {},
     "output_type": "execute_result"
    }
   ],
   "source": [
    "%run sqlite_execution.py\n",
    "db_handler = Sqlite_Handler()\n",
    "# db_handler.drop_duplicates()\n",
    "info = db_handler.get_info().sort_values(\"solved\", ascending=False)\n",
    "info"
   ]
  },
  {
   "cell_type": "code",
   "execution_count": 3,
   "metadata": {},
   "outputs": [
    {
     "data": {
      "image/png": "[encoded data removed]",
      "text/plain": [
       "<Figure size 400x200 with 1 Axes>"
      ]
     },
     "metadata": {},
     "output_type": "display_data"
    }
   ],
   "source": [
    "%run visualizer.py\n",
    "plot_captcha_info(info, figsize=(2,4))"
   ]
  },
  {
   "cell_type": "code",
   "execution_count": 4,
   "metadata": {},
   "outputs": [
    {
     "name": "stdout",
     "output_type": "stream",
     "text": [
      "Loaded Website\n",
      "Launched hCaptcha\n",
      "Switched to Captcha\n",
      "Newer captcha\n",
      "Scraped hCaptcha string: Please click each image containing a motorcycle\n",
      "['https://imgs.hcaptcha.com/e-7lb1HlU1NyiMpW9338djxX780lmug9YxgyvqM6w3kmVYWNdhgoRE1zseeFlFER6a3XBsEQc094wUfi8rxd4HY9ogcOt6-eBueLCjNP0bCfCBArnFCoIn0mUUaBBk7enO4kZis-z8bxckZxcMW_TT5IS7vXlN5nLGCsQfa7onCAR97G3a3yeEAaXlIPor69tlgCae9ULnQsrR6E03nUh_FuInZyqwlJEZgK7wo4ItfufYsDWiOah9', 'https://imgs.hcaptcha.com/Lf0zj_OzIjr20kG8aguwajMsmFjwpRNBmZ3VNCXmHYNqrTLGxnbv3YCjAEPt_GKpumwitP8o0FzGYrjbkSmjlrOXv3zipHoRab_HeO98iH_9BvmSkascUsq478tdDk7fYpIF78mAwR37D8A9K5yl83PYQ0PwQ27stBuh62TAjdj7XPz0ZxMIjcxoBV-LJNaY_aXCvuyK-7fkjB9StUg73MIWxb4KrJAH597uK74_tJcJng0a1btHl9N', 'https://imgs.hcaptcha.com/TRPvF_W1xD-GOlkNxHLrR6wcpCRpeEF7w3oo5KAVq7apOJcNtu_-3cuOV-8kMkwAkvVx-zH11s6PEPxHpsN6aclTIUG9fbvgFAgRxarcqwfGXTVjyZsvKlsvICqZFsqIhgeyo9nDLneqSLaBlevL8j5BlAcQq0-qoSXr5OmSsV49qpHxtuxpVPJUdnYzM30RvTdsmzHvrGVO79zEsb5y8rjlTROtKXO5uGHZZwjaB8jG6er08jU5P3', 'https://imgs.hcaptcha.com/gAqnXp28umnZzrC-wX6GKeazB4Q5b_hp4BtTT5qqrCFhgyrOZGutHCencLuNuI3oS9qH6F44rJrXbbxyKzTAhtCsXuBz4vA5_yYwjm7ONeG6rWL10Ftm8Yv17NaaAos9T6_aVli1AlsGlLi_4-X26JtgosoKLe8f0WOzFDuNvIpzHgKg1Gwrd9gJddDsF0XIq9keslpkybuRijgbJQULPAbE6oTZFnAKL4I5MhnavDMppHfblSD', 'https://imgs.hcaptcha.com/KXRRc7GiXO4Ke9Jbqukyy_X-zNVawqxIZKgoxf94FUXmksZdKG1mTQyD-BrgqVfRdbsLwodAE-BrPU0RL1xmqJuS7VMZ3mUHg2BnoRInhkm-a84xwpsd1t1Xto4cDQ-3iI2vqA_OHKkrWxN6Brch5s72wvDjMzvbev2iotZaywEHicIQGV8H5OJ_XQrzypg484jZ2p44esby49_A-TE4F40NhcGUaZUy4K5I6Jc48Vp51eoRmsrji39', 'https://imgs.hcaptcha.com/dqw_7gD2vxwTJebLu1Jxf7rS4yyj6B1DwV_pDsngE-0mMD5bdnKmKPjzIx9SgPQoFOX-LPPoBZKBmWzejh4MaI_76dfMwrazQnMy6IgtmbV10Q0FxB--LweEyq6fsVfIcUIUBKEjhf5Lb6VZLgWLL2CB0b5XBDeNbAZQJYwYAzT2aJkFlQ-m2m1b8smQwjKt9fkiaS3wGrRI57xzh15U1Vg1IDiHrpmrtpY4pqRzCXHJfghup9H', 'https://imgs.hcaptcha.com/yNrQ2QgJSKIH3fky1paJDYVz-yhyNNKLJ8EL7BqujA-ncjbj3EY2JjzczsLN0wnUhFKLzlcdtI1Orz9FyfSKeR73o_v87n8KEAOQZk50oHP33Jn9zprYo89lQuFIpskKFqPcSlcT3Q6HOB5G_RY3DKjQXsjDRF84IMOCoKq9MGsoifJFERBK4JRikcFRjVUVOY-goQ-icj2ARgsArjo4P7J93RR9HgjY-5rXGg4bPbfrch3F7GDNtI', 'https://imgs.hcaptcha.com/hVrUqXFWhmvMpxfeThccIFx6hlJorBupNgfBF8dJzyBong0IrtxldwSOtJi-XfHsET4yPaIhVgkSo6pmpXpzRsJ-riYwFrGlmam29aPWRUT50_axK9iyS39P8xWIxL9ZDTKpP4WWgbY7X1bR8LqThXWKE1_AxBkzApJNBm62J8zCAHf6C6tO8tU1aCipCsM-lWrYcFSp5siUZUwY1wITTazpcVX1ijTueELezQ8HkIZevXQKxUYPkH', 'https://imgs.hcaptcha.com/W-aqVhiJdarY98atBA-dEHp-LjWRuYrLci5e1vtjINhJ2hq400ZdFHnGUonj_3ziG0yQXFY1v3Fx4G_C9VFKoijPtUOl_TcZn5xCRpsL3HamMwbXxtwxDi4hb3h-OUTc5FDkIuxw4aKecY1A39zZzJfnycipOkE4c_xTkSkP--lmu4tqxwgBk9ojnyXXLDeX-_YaAqVioH-egeLWLqAJ-NSfPn-GkvU_SjPdHuMdSutmdYgppgzV2po']\n",
      "Added images to db\n",
      "Newer captcha\n",
      "Newer captcha\n",
      "Newer captcha\n",
      "Newer captcha\n",
      "Newer captcha\n",
      "Newer captcha\n",
      "Newer captcha\n",
      "Newer captcha\n",
      "Newer captcha\n",
      "Newer captcha\n",
      "Scraped hCaptcha string: Please click each image containing a car\n",
      "['https://imgs.hcaptcha.com/YXbWVWu2PGYKh28SLbuRlBWPbc1_dBIj2zCpLDxQjPpLu8oF7mnD6ABUy4QSt80fi3BRiwGeyXt8cvV0sfbld4DWQYtQTlGHrYiepVlHvuWFaaRCrhoCq8R3W5bpJwSb3kLAs118UGGuBbf6KQtTHDtMUmYt2b3z7Tv7udakdpqCnZ7Q_FsHTBEjz4JklFJr4ih3xppx6vlsZPS_cX2crjYxRnD3VC5_nz0oQKmVCRkbgPZz458xVCwuCKl', 'https://imgs.hcaptcha.com/IDu4-noLqJ2SSNIl-ajySjWShltuHxRP-wu4op1ZWBLMqn-4fKa67AjZsaHtGL74-BEwCLl3VgKkkYngN_QsZRE7UIu6oUQ4w4-ZDF-umjw7Yn-EoGZQgM0Ps4Fv6amSqDuATJQgx4lUrPWMWSOG7IK5zhY55K9jKqmYE5EPbxbRd51W2adyD122sgQRLltUYPS_SEbz1mkTC69-9E_GDFDIFPHJ1AvaSbEak-dbDw_bRj7iqc_VqPwj_-', 'https://imgs.hcaptcha.com/CT95_iR5AoBmSpeN9oeKYSbWm9pMzTlmksMTTIAL7wbP0a26TMZJB7Tcq3UKuf9MHOfN8mDoReD0JEc0i97v9R3pYzLNUX6ivXlKn7nyT1hwBFnrr79rFOL_6AK2eEot_uoIJLMo7Rw9LO4TIiWucKViBdUI-1yFBdgeJhiDqE1f-7it0xDoP52_nIV2dE1r_Ko30UXMcYWJb9tzn2WVtiAJosr_Kz0jRKU0DUbEcs8nPR-mJLOwTmqSSL7', 'https://imgs.hcaptcha.com/kCUEG_vXT64ceBLj0uDTNjREaB3XF55qp0ZoloMbWRbjY0L5cotPJL0eKQidNPSixvwZbC0plFUPlCJU0O1IoagvrJHLMlTRCWhVMp_DPRF7-rB6t4KV-c08sn6xk2YWMRYvF4YCaRTK6v74YkzjIpDoIgYgYxJ1-1Cn9YOB32FCzo7i1FvM8-9cTcki_zj7jngVfw2rDKJJZJIzVLf96PPiSspHRBxNMABkEKetLGM5Py54FCC-r9oL', 'https://imgs.hcaptcha.com/iv_mx3pUAitGMLOwqGY-M4lBvdmizHC4ByqrCO-qrf5XcfSPJtw5hK-XdSUb3lJXsX4qbzdILYiQijRX1utvEjoTfYlQPpWXwrp3N_TUQ1YskUjgIoHV9IfzVpol9llTYOjQAtqlq8Nz401QMHLMty87bwBGoiSGUSfitNe0gEnklxeHAeVr-hkVANMIBRcG2STqip-uv2uZvzb8zd7Z8HFljJg_7IoMxoTeTPPvM_aJzKAZmE4vOQJY', 'https://imgs.hcaptcha.com/wQxGdTlCJXZkbgHjlZ7ZokXfsX3oVDmtvfCDd3XQ8k9WDtoRAS-MR96NwyXK6wt1_6jLxHrh05MJ0fEUHw-IRg5lWuRXl3d780U3XkiBYtDvGQwlZPsMBsHVoJvZ_yut7p1_hTPDjT6eCjsvtfKD-ybAqELItElLJOSNllluf1SI9AJnUa1R0is_gqlOGkXLo6Bwwvhu2zgG6D4_scpXE_sGHHwtFlMJifiMl05hLN8BITF9ZY7P3UzX', 'https://imgs.hcaptcha.com/2Vkger-blMlq8CxpZy7DQs1lZHtYAsYhf0ukt6MoHGrPO4750qMSibwcai1fd77UqdSAEnzGuUYG1aiIcPk1BKJBRYaZxIzdsrxevdb3q4BC0ubpSC9MaH5QjpdthEYfmDl-rjGsIdt2ZZS_yf1vcEJc_nhpmIGcaKir1MdNuMcfLxHej4FyufGvZb67p2z64OrX4DXN-r9JwYLzrgJtG4ciVv81SLm2N0IA6LC3LgZaV1ka1UyLUbq37x', 'https://imgs.hcaptcha.com/RCwDyaxEyg6kDFQLlM58L3_eoVDAv78_csTEU3X3ot9M3PhUdNu0hy8JbWXjliZqZjzuXGTOHXM0o8UPU03IYnoUyp-ZT_RvCYstbYdYMKdVNUQ6ogDtJmBDWyTWFXi0axtT8OVilyA6wkUWRvu7oM9orL2rUIg0N9006yi8XA5Bf5hjR8shfnGUVqzGrzdvlHk4vcVPZ4c747-BxKQ6ThNElOuXquF3PGt17wRWlnNzboA04qRhosaR']\n",
      "Added images to db\n",
      "Newer captcha\n",
      "Newer captcha\n",
      "Scraped hCaptcha string: Please click each image containing a car\n",
      "['https://imgs.hcaptcha.com/6dL2UaB48RAuXGUoCaLh00VimkpDN04G8KyUMz_asQ_iWId36eN-esJtnwTThLVMU3ClHLcUpsk3_xrZY96Tr2bSklE4ScIW6Bg8ApyFRAydE5S6aeaKWoUvmmbJTG_Sygs9VbdXFLUvlY-O0px1Hz9jfgPnGRqeisLKD1bHT83RXHRYIzXwZEIKHu1q8heGVLJn399MuCNrHHDW6xo6MV1B_J4Mzpw6D6IoJw_Zsga_siOSp2Z1tot8KO', 'https://imgs.hcaptcha.com/5YAlLNLHx8q6hDwrlkPz-S2e4kdE_jE3QmrSU6JT0eWvtTDmO8QsjnRrWUEIjcyYnFyZ8bVxeaxLGYbWNW0PJ3bpOdpD9uWhrtn3TFaEohl9pAgmUGdNkDtScIL4Kz5COmVNWbS_VIMV4B1uPyYpSVHgoNB10w0YzkSBkUUmXYQjNewqbttWOIeuiWMIe7ycPugbo3r4fkcTpN5AC7sIEInWot2WhZgTgL_zNBxoWAXE1WeOnGTSuImlqy', 'https://imgs.hcaptcha.com/rgT132dwO8vkkTUyTllZ80om5a-ZMKXvCDyzOXN4ekkXk1FG4ZwQ4IFzcOCCEsthkwWol_sIZAOlbw3AY5y4xJTNkV2HFiDql5dmQNBZ8BG_8TanHy6f-0-siIqM-I1AKs-vFNB1bA3yhRGFDUXJL_cfqP3YtrwtemV8d2XLVt0UARfDSvbadNMSIeGGpQA_qMZ8ePemdPjyqQJxALnSI6hf1hSUQjYtNRpJvxo42z0HCIslWpyQh7NTfuh', 'https://imgs.hcaptcha.com/kgbeFw4jae3lerYQ1IRS7DzrVI39iaYImT7azMlyBOe6lP5762IWqHKXkyyJdW-_t1kCr9cLpEFkGv07Mz2To-YBbRv8LswyO2ewQAaB7xMXOe_XOO5NKpDiFZ9yY-AF-zwbixyfILHuDDMwKy9n2gtzprWMG_ANVi7fYjoh2rlqBz5rQ8Bl5SYBl2e-RbejmW5VQ8DfayhnI2GTgcWEYag2Y-d1ciPgA_cx9vnmYN05b8alsNGmq89E', 'https://imgs.hcaptcha.com/Phhn3EbHOSDKkcE8_GmCcxoYqLbt076ae6fFYCtZKAzoSeFgXJGn48BgPV2msvKoLZFVRi_4C-4wUGFb2El0if_ZXmSMx82aJvAkcSiBqkGNUEZsDOQamq-jP_5e4PGvDLbl3iWFwymtLEimxG-Cs8ucy4Sz5S9JcYtztC2DM02bZJRiWbquljDoUXPYE6a_jC_B_D4Ls3jcht8b5OdLXRSErPsP5D7dBAtnRBKrJgFR-4b5YqcIdCWddx', 'https://imgs.hcaptcha.com/IEDE1SyBMBPZV3FhU8e8fPuhogOHJN1TYp7jwqfXSr4P4ANzkfwPt5DHBcrj6XZRo9OSgp_LyzuNVVoI8JOqyAwD2bdNuIZNahRErOIc_RHAEOajFsQPN-Ds5irtWHA43PMfFre31WSYkchzFtXta2GvsnvSUAV1Zen91ZRK9KdVIGPzNcVqKMCawKp0koo8gbhrV-iZiBf8WQfZT-pZnLrCaXNXED7b-HbYSa_NyWYA-L98YDfD0HBF', 'https://imgs.hcaptcha.com/_Nr9OYiybCxDTj-YmdC4RFypo6oBHNMdVb3RBMhQ9dOyBoPHGoCa9dgVO-2muT-zzTWv981joUJ2FeD4adbDlD59rYCYJQfu4J5S10Sek5N5c8k97ljmLFzLIuCBe_VSLx1jRR8OTTxYF9bUMOrZVzdnpuwcd1yFMNLwnPMjX_J8-dyqf8b9R3qGMXgOg4fi4RTw8qzGiN_9pmYBiM_doIXSd6MStZg1NROTFsBB6_ojZeK7MTmoriyfGTy']\n",
      "Added images to db\n",
      "Newer captcha\n",
      "ERROR: Message: no such window: target window already closed\n",
      "from unknown error: web view not found\n",
      "  (Session info: chrome=115.0.5790.171)\n",
      "Stacktrace:\n",
      "Backtrace:\n",
      "\tGetHandleVerifier [0x00DAA813+48355]\n",
      "\t(No symbol) [0x00D3C4B1]\n",
      "\t(No symbol) [0x00C45358]\n",
      "\t(No symbol) [0x00C2D293]\n",
      "\t(No symbol) [0x00C8E37B]\n",
      "\t(No symbol) [0x00C9C473]\n",
      "\t(No symbol) [0x00C8A536]\n",
      "\t(No symbol) [0x00C682DC]\n",
      "\t(No symbol) [0x00C693DD]\n",
      "\tGetHandleVerifier [0x0100AABD+2539405]\n",
      "\tGetHandleVerifier [0x0104A78F+2800735]\n",
      "\tGetHandleVerifier [0x0104456C+2775612]\n",
      "\tGetHandleVerifier [0x00E351E0+616112]\n",
      "\t(No symbol) [0x00D45F8C]\n",
      "\t(No symbol) [0x00D42328]\n",
      "\t(No symbol) [0x00D4240B]\n",
      "\t(No symbol) [0x00D34FF7]\n",
      "\tBaseThreadInitThunk [0x76F9FA29+25]\n",
      "\tRtlGetAppContainerNamedObjectPath [0x77697A4E+286]\n",
      "\tRtlGetAppContainerNamedObjectPath [0x77697A1E+238]\n",
      "\n"
     ]
    },
    {
     "ename": "NoSuchWindowException",
     "evalue": "Message: no such window: target window already closed\nfrom unknown error: web view not found\n  (Session info: chrome=115.0.5790.171)\nStacktrace:\nBacktrace:\n\tGetHandleVerifier [0x00DAA813+48355]\n\t(No symbol) [0x00D3C4B1]\n\t(No symbol) [0x00C45358]\n\t(No symbol) [0x00C2D293]\n\t(No symbol) [0x00C8E37B]\n\t(No symbol) [0x00C9C473]\n\t(No symbol) [0x00C8A536]\n\t(No symbol) [0x00C682DC]\n\t(No symbol) [0x00C693DD]\n\tGetHandleVerifier [0x0100AABD+2539405]\n\tGetHandleVerifier [0x0104A78F+2800735]\n\tGetHandleVerifier [0x0104456C+2775612]\n\tGetHandleVerifier [0x00E351E0+616112]\n\t(No symbol) [0x00D45F8C]\n\t(No symbol) [0x00D42328]\n\t(No symbol) [0x00D4240B]\n\t(No symbol) [0x00D34FF7]\n\tBaseThreadInitThunk [0x76F9FA29+25]\n\tRtlGetAppContainerNamedObjectPath [0x77697A4E+286]\n\tRtlGetAppContainerNamedObjectPath [0x77697A1E+238]\n",
     "output_type": "error",
     "traceback": [
      "\u001b[1;31m---------------------------------------------------------------------------\u001b[0m",
      "\u001b[1;31mNoSuchWindowException\u001b[0m                     Traceback (most recent call last)",
      "File \u001b[1;32m~\\Desktop\\PERS\\hcaptcha-solver\\collector\\wd_handler.py:64\u001b[0m, in \u001b[0;36mWebdriver_Handler.get_all_and_skip\u001b[1;34m(self)\u001b[0m\n\u001b[0;32m     63\u001b[0m \u001b[39mprint\u001b[39m(\u001b[39m\"\u001b[39m\u001b[39mNewer captcha\u001b[39m\u001b[39m\"\u001b[39m)\n\u001b[1;32m---> 64\u001b[0m captcha_string \u001b[39m=\u001b[39m \u001b[39mself\u001b[39;49m\u001b[39m.\u001b[39;49mwd\u001b[39m.\u001b[39;49mfind_element(By\u001b[39m.\u001b[39;49mXPATH, \u001b[39m\"\u001b[39;49m\u001b[39m//h2[@class=\u001b[39;49m\u001b[39m'\u001b[39;49m\u001b[39mprompt-text\u001b[39;49m\u001b[39m'\u001b[39;49m\u001b[39m]\u001b[39;49m\u001b[39m\"\u001b[39;49m)\u001b[39m.\u001b[39mtext\n\u001b[0;32m     65\u001b[0m captcha_string \u001b[39m=\u001b[39m captcha_string\u001b[39m.\u001b[39mreplace(\u001b[39m\"\u001b[39m\u001b[39mPlease click on the \u001b[39m\u001b[39m\"\u001b[39m,\u001b[39m\"\u001b[39m\u001b[39m\"\u001b[39m)\u001b[39m.\u001b[39mreplace(\u001b[39m\"\u001b[39m\u001b[39m \u001b[39m\u001b[39m\"\u001b[39m,\u001b[39m\"\u001b[39m\u001b[39m_\u001b[39m\u001b[39m\"\u001b[39m)\n",
      "File \u001b[1;32mc:\\Users\\V61XNRQ\\AppData\\Local\\anaconda3\\envs\\full311\\Lib\\site-packages\\selenium\\webdriver\\remote\\webdriver.py:740\u001b[0m, in \u001b[0;36mWebDriver.find_element\u001b[1;34m(self, by, value)\u001b[0m\n\u001b[0;32m    738\u001b[0m     value \u001b[39m=\u001b[39m \u001b[39mf\u001b[39m\u001b[39m'\u001b[39m\u001b[39m[name=\u001b[39m\u001b[39m\"\u001b[39m\u001b[39m{\u001b[39;00mvalue\u001b[39m}\u001b[39;00m\u001b[39m\"\u001b[39m\u001b[39m]\u001b[39m\u001b[39m'\u001b[39m\n\u001b[1;32m--> 740\u001b[0m \u001b[39mreturn\u001b[39;00m \u001b[39mself\u001b[39;49m\u001b[39m.\u001b[39;49mexecute(Command\u001b[39m.\u001b[39;49mFIND_ELEMENT, {\u001b[39m\"\u001b[39;49m\u001b[39musing\u001b[39;49m\u001b[39m\"\u001b[39;49m: by, \u001b[39m\"\u001b[39;49m\u001b[39mvalue\u001b[39;49m\u001b[39m\"\u001b[39;49m: value})[\u001b[39m\"\u001b[39m\u001b[39mvalue\u001b[39m\u001b[39m\"\u001b[39m]\n",
      "File \u001b[1;32mc:\\Users\\V61XNRQ\\AppData\\Local\\anaconda3\\envs\\full311\\Lib\\site-packages\\selenium\\webdriver\\remote\\webdriver.py:346\u001b[0m, in \u001b[0;36mWebDriver.execute\u001b[1;34m(self, driver_command, params)\u001b[0m\n\u001b[0;32m    345\u001b[0m \u001b[39mif\u001b[39;00m response:\n\u001b[1;32m--> 346\u001b[0m     \u001b[39mself\u001b[39;49m\u001b[39m.\u001b[39;49merror_handler\u001b[39m.\u001b[39;49mcheck_response(response)\n\u001b[0;32m    347\u001b[0m     response[\u001b[39m\"\u001b[39m\u001b[39mvalue\u001b[39m\u001b[39m\"\u001b[39m] \u001b[39m=\u001b[39m \u001b[39mself\u001b[39m\u001b[39m.\u001b[39m_unwrap_value(response\u001b[39m.\u001b[39mget(\u001b[39m\"\u001b[39m\u001b[39mvalue\u001b[39m\u001b[39m\"\u001b[39m, \u001b[39mNone\u001b[39;00m))\n",
      "File \u001b[1;32mc:\\Users\\V61XNRQ\\AppData\\Local\\anaconda3\\envs\\full311\\Lib\\site-packages\\selenium\\webdriver\\remote\\errorhandler.py:245\u001b[0m, in \u001b[0;36mErrorHandler.check_response\u001b[1;34m(self, response)\u001b[0m\n\u001b[0;32m    244\u001b[0m     \u001b[39mraise\u001b[39;00m exception_class(message, screen, stacktrace, alert_text)  \u001b[39m# type: ignore[call-arg]  # mypy is not smart enough here\u001b[39;00m\n\u001b[1;32m--> 245\u001b[0m \u001b[39mraise\u001b[39;00m exception_class(message, screen, stacktrace)\n",
      "\u001b[1;31mNoSuchWindowException\u001b[0m: Message: no such window: target window already closed\nfrom unknown error: web view not found\n  (Session info: chrome=115.0.5790.171)\nStacktrace:\nBacktrace:\n\tGetHandleVerifier [0x00DAA813+48355]\n\t(No symbol) [0x00D3C4B1]\n\t(No symbol) [0x00C45358]\n\t(No symbol) [0x00C2D293]\n\t(No symbol) [0x00C8E37B]\n\t(No symbol) [0x00C9C473]\n\t(No symbol) [0x00C8A536]\n\t(No symbol) [0x00C682DC]\n\t(No symbol) [0x00C693DD]\n\tGetHandleVerifier [0x0100AABD+2539405]\n\tGetHandleVerifier [0x0104A78F+2800735]\n\tGetHandleVerifier [0x0104456C+2775612]\n\tGetHandleVerifier [0x00E351E0+616112]\n\t(No symbol) [0x00D45F8C]\n\t(No symbol) [0x00D42328]\n\t(No symbol) [0x00D4240B]\n\t(No symbol) [0x00D34FF7]\n\tBaseThreadInitThunk [0x76F9FA29+25]\n\tRtlGetAppContainerNamedObjectPath [0x77697A4E+286]\n\tRtlGetAppContainerNamedObjectPath [0x77697A1E+238]\n",
      "\nDuring handling of the above exception, another exception occurred:\n",
      "\u001b[1;31mNoSuchWindowException\u001b[0m                     Traceback (most recent call last)",
      "Cell \u001b[1;32mIn[4], line 15\u001b[0m\n\u001b[0;32m      2\u001b[0m urls \u001b[39m=\u001b[39m [\n\u001b[0;32m      3\u001b[0m     \u001b[39m\"\u001b[39m\u001b[39mhttps://nopecha.com/demo/hcaptcha\u001b[39m\u001b[39m\"\u001b[39m,\n\u001b[0;32m      4\u001b[0m     \u001b[39m\"\u001b[39m\u001b[39mhttps://democaptcha.com/demo-form-eng/hcaptcha.html\u001b[39m\u001b[39m\"\u001b[39m,\n\u001b[1;32m   (...)\u001b[0m\n\u001b[0;32m     12\u001b[0m     \u001b[39m\"\u001b[39m\u001b[39mhttps://raleighvehiclewraps.com/\u001b[39m\u001b[39m\"\u001b[39m\n\u001b[0;32m     13\u001b[0m     ]\n\u001b[0;32m     14\u001b[0m \u001b[39m# collect_data(db_handler, urls)\u001b[39;00m\n\u001b[1;32m---> 15\u001b[0m collect_data(db_handler, urls[\u001b[39m0\u001b[39;49m], count\u001b[39m=\u001b[39;49m\u001b[39m10\u001b[39;49m)\n",
      "File \u001b[1;32m~\\Desktop\\PERS\\hcaptcha-solver\\collector\\collector.py:67\u001b[0m, in \u001b[0;36mcollect_data\u001b[1;34m(db_handler, url, count)\u001b[0m\n\u001b[0;32m     64\u001b[0m wd\u001b[39m.\u001b[39mload_captcha()\n\u001b[0;32m     66\u001b[0m \u001b[39mfor\u001b[39;00m i \u001b[39min\u001b[39;00m \u001b[39mrange\u001b[39m(count):\n\u001b[1;32m---> 67\u001b[0m     captcha_str, captcha_urls \u001b[39m=\u001b[39m wd\u001b[39m.\u001b[39;49mget_all_and_skip()\n\u001b[0;32m     68\u001b[0m     captcha_str \u001b[39m=\u001b[39m normalize_captcha_string(captcha_str)\n\u001b[0;32m     70\u001b[0m     \u001b[39mwith\u001b[39;00m requests\u001b[39m.\u001b[39mSession() \u001b[39mas\u001b[39;00m s:\n",
      "File \u001b[1;32m~\\Desktop\\PERS\\hcaptcha-solver\\collector\\wd_handler.py:90\u001b[0m, in \u001b[0;36mWebdriver_Handler.get_all_and_skip\u001b[1;34m(self)\u001b[0m\n\u001b[0;32m     88\u001b[0m \u001b[39mexcept\u001b[39;00m \u001b[39mException\u001b[39;00m \u001b[39mas\u001b[39;00m e:\n\u001b[0;32m     89\u001b[0m     \u001b[39mprint\u001b[39m(\u001b[39m\"\u001b[39m\u001b[39mERROR:\u001b[39m\u001b[39m\"\u001b[39m, e)\n\u001b[1;32m---> 90\u001b[0m     \u001b[39mself\u001b[39;49m\u001b[39m.\u001b[39;49mload_captcha()\n\u001b[0;32m     91\u001b[0m     \u001b[39mreturn\u001b[39;00m \u001b[39mself\u001b[39m\u001b[39m.\u001b[39mget_all_and_skip()\n",
      "File \u001b[1;32m~\\Desktop\\PERS\\hcaptcha-solver\\collector\\wd_handler.py:44\u001b[0m, in \u001b[0;36mWebdriver_Handler.load_captcha\u001b[1;34m(self)\u001b[0m\n\u001b[0;32m     43\u001b[0m \u001b[39mdef\u001b[39;00m \u001b[39mload_captcha\u001b[39m(\u001b[39mself\u001b[39m):\n\u001b[1;32m---> 44\u001b[0m     \u001b[39mself\u001b[39;49m\u001b[39m.\u001b[39;49mwd\u001b[39m.\u001b[39;49mget(\u001b[39mself\u001b[39;49m\u001b[39m.\u001b[39;49murl)\n\u001b[0;32m     45\u001b[0m     \u001b[39mprint\u001b[39m(\u001b[39m\"\u001b[39m\u001b[39mLoaded Website\u001b[39m\u001b[39m\"\u001b[39m)\n\u001b[0;32m     47\u001b[0m     WebDriverWait(\u001b[39mself\u001b[39m\u001b[39m.\u001b[39mwd, \u001b[39mself\u001b[39m\u001b[39m.\u001b[39mtimeout)\u001b[39m.\u001b[39muntil(EC\u001b[39m.\u001b[39mframe_to_be_available_and_switch_to_it((By\u001b[39m.\u001b[39mXPATH,\u001b[39m\"\u001b[39m\u001b[39m//iframe[contains(@src,\u001b[39m\u001b[39m'\u001b[39m\u001b[39mhcaptcha\u001b[39m\u001b[39m'\u001b[39m\u001b[39m) and contains(@src,\u001b[39m\u001b[39m'\u001b[39m\u001b[39mcheckbox\u001b[39m\u001b[39m'\u001b[39m\u001b[39m)]\u001b[39m\u001b[39m\"\u001b[39m)))\n",
      "File \u001b[1;32mc:\\Users\\V61XNRQ\\AppData\\Local\\anaconda3\\envs\\full311\\Lib\\site-packages\\selenium\\webdriver\\remote\\webdriver.py:355\u001b[0m, in \u001b[0;36mWebDriver.get\u001b[1;34m(self, url)\u001b[0m\n\u001b[0;32m    353\u001b[0m \u001b[39mdef\u001b[39;00m \u001b[39mget\u001b[39m(\u001b[39mself\u001b[39m, url: \u001b[39mstr\u001b[39m) \u001b[39m-\u001b[39m\u001b[39m>\u001b[39m \u001b[39mNone\u001b[39;00m:\n\u001b[0;32m    354\u001b[0m \u001b[39m    \u001b[39m\u001b[39m\"\"\"Loads a web page in the current browser session.\"\"\"\u001b[39;00m\n\u001b[1;32m--> 355\u001b[0m     \u001b[39mself\u001b[39;49m\u001b[39m.\u001b[39;49mexecute(Command\u001b[39m.\u001b[39;49mGET, {\u001b[39m\"\u001b[39;49m\u001b[39murl\u001b[39;49m\u001b[39m\"\u001b[39;49m: url})\n",
      "File \u001b[1;32mc:\\Users\\V61XNRQ\\AppData\\Local\\anaconda3\\envs\\full311\\Lib\\site-packages\\selenium\\webdriver\\remote\\webdriver.py:346\u001b[0m, in \u001b[0;36mWebDriver.execute\u001b[1;34m(self, driver_command, params)\u001b[0m\n\u001b[0;32m    344\u001b[0m response \u001b[39m=\u001b[39m \u001b[39mself\u001b[39m\u001b[39m.\u001b[39mcommand_executor\u001b[39m.\u001b[39mexecute(driver_command, params)\n\u001b[0;32m    345\u001b[0m \u001b[39mif\u001b[39;00m response:\n\u001b[1;32m--> 346\u001b[0m     \u001b[39mself\u001b[39;49m\u001b[39m.\u001b[39;49merror_handler\u001b[39m.\u001b[39;49mcheck_response(response)\n\u001b[0;32m    347\u001b[0m     response[\u001b[39m\"\u001b[39m\u001b[39mvalue\u001b[39m\u001b[39m\"\u001b[39m] \u001b[39m=\u001b[39m \u001b[39mself\u001b[39m\u001b[39m.\u001b[39m_unwrap_value(response\u001b[39m.\u001b[39mget(\u001b[39m\"\u001b[39m\u001b[39mvalue\u001b[39m\u001b[39m\"\u001b[39m, \u001b[39mNone\u001b[39;00m))\n\u001b[0;32m    348\u001b[0m     \u001b[39mreturn\u001b[39;00m response\n",
      "File \u001b[1;32mc:\\Users\\V61XNRQ\\AppData\\Local\\anaconda3\\envs\\full311\\Lib\\site-packages\\selenium\\webdriver\\remote\\errorhandler.py:245\u001b[0m, in \u001b[0;36mErrorHandler.check_response\u001b[1;34m(self, response)\u001b[0m\n\u001b[0;32m    243\u001b[0m         alert_text \u001b[39m=\u001b[39m value[\u001b[39m\"\u001b[39m\u001b[39malert\u001b[39m\u001b[39m\"\u001b[39m]\u001b[39m.\u001b[39mget(\u001b[39m\"\u001b[39m\u001b[39mtext\u001b[39m\u001b[39m\"\u001b[39m)\n\u001b[0;32m    244\u001b[0m     \u001b[39mraise\u001b[39;00m exception_class(message, screen, stacktrace, alert_text)  \u001b[39m# type: ignore[call-arg]  # mypy is not smart enough here\u001b[39;00m\n\u001b[1;32m--> 245\u001b[0m \u001b[39mraise\u001b[39;00m exception_class(message, screen, stacktrace)\n",
      "\u001b[1;31mNoSuchWindowException\u001b[0m: Message: no such window: target window already closed\nfrom unknown error: web view not found\n  (Session info: chrome=115.0.5790.171)\nStacktrace:\nBacktrace:\n\tGetHandleVerifier [0x00DAA813+48355]\n\t(No symbol) [0x00D3C4B1]\n\t(No symbol) [0x00C45358]\n\t(No symbol) [0x00C2D293]\n\t(No symbol) [0x00C8E37B]\n\t(No symbol) [0x00C9C473]\n\t(No symbol) [0x00C8A536]\n\t(No symbol) [0x00C682DC]\n\t(No symbol) [0x00C693DD]\n\tGetHandleVerifier [0x0100AABD+2539405]\n\tGetHandleVerifier [0x0104A78F+2800735]\n\tGetHandleVerifier [0x0104456C+2775612]\n\tGetHandleVerifier [0x00E351E0+616112]\n\t(No symbol) [0x00D45F8C]\n\t(No symbol) [0x00D42328]\n\t(No symbol) [0x00D4240B]\n\t(No symbol) [0x00D34FF7]\n\tBaseThreadInitThunk [0x76F9FA29+25]\n\tRtlGetAppContainerNamedObjectPath [0x77697A4E+286]\n\tRtlGetAppContainerNamedObjectPath [0x77697A1E+238]\n"
     ]
    }
   ],
   "source": [
    "%run collector/collector.py\n",
    "urls = [\n",
    "    \"https://nopecha.com/demo/hcaptcha\",\n",
    "    \"https://democaptcha.com/demo-form-eng/hcaptcha.html\",\n",
    "    \"https://freebitco.in/signup/?op=s\", \n",
    "    \"https://accounts.shopify.com/signup?rid=f8d4b2e6-f0fe-41ab-83e5-e633974bd42b&signup_strategy=password\",\n",
    "    \"https://www.dierenkliniekoudorp.nl/\",\n",
    "    \"https://cellar335.com/\",\n",
    "    \"https://www.salumificiovecchi.it/\",\n",
    "    \"https://economygarages.com/\",\n",
    "    \"https://www.assimilationdesigns.com/\"\n",
    "    \"https://raleighvehiclewraps.com/\"\n",
    "    ]\n",
    "# collect_data(db_handler, urls)\n",
    "collect_data(db_handler, urls[0], count=10)"
   ]
  },
  {
   "cell_type": "code",
   "execution_count": null,
   "metadata": {},
   "outputs": [],
   "source": [
    "assert 1 == 0 # to avoid execution of code below"
   ]
  },
  {
   "cell_type": "code",
   "execution_count": null,
   "metadata": {},
   "outputs": [],
   "source": [
    "%run pytorch_training.py\n",
    "train_models_on_all_captcha_strings(db_handler)"
   ]
  },
  {
   "cell_type": "code",
   "execution_count": null,
   "metadata": {},
   "outputs": [],
   "source": [
    "%run manual_classifier/manual_classifier.py\n",
    "mc = Manual_Classifier(db_handler)"
   ]
  },
  {
   "cell_type": "code",
   "execution_count": null,
   "metadata": {},
   "outputs": [],
   "source": [
    "%run vilt.py\n",
    "vilt = Vilt_Classifier()"
   ]
  },
  {
   "cell_type": "code",
   "execution_count": null,
   "metadata": {},
   "outputs": [],
   "source": [
    "extended_info = vilt.get_accuracy_for_all_captchas(db_handler)\n",
    "extended_info"
   ]
  },
  {
   "cell_type": "code",
   "execution_count": null,
   "metadata": {},
   "outputs": [],
   "source": [
    "plot_captcha_info(extended_info)"
   ]
  }
 ],
 "metadata": {
  "kernelspec": {
   "display_name": "Python 3",
   "language": "python",
   "name": "python3"
  },
  "language_info": {
   "codemirror_mode": {
    "name": "ipython",
    "version": 3
   },
   "file_extension": ".py",
   "mimetype": "text/x-python",
   "name": "python",
   "nbconvert_exporter": "python",
   "pygments_lexer": "ipython3",
   "version": "3.11.4"
  },
  "orig_nbformat": 4
 },
 "nbformat": 4,
 "nbformat_minor": 2
}
