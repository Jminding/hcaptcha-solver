{
 "cells": [
  {
   "cell_type": "code",
   "execution_count": null,
   "metadata": {},
   "outputs": [],
   "source": [
    "import pandas as pd\n",
    "import numpy as np\n",
    "import os"
   ]
  },
  {
   "cell_type": "code",
   "execution_count": null,
   "metadata": {},
   "outputs": [],
   "source": [
    "%run sqlite_execution.py\n",
    "db_handler = Sqlite_Handler()\n",
    "# db_handler.drop_duplicates()\n",
    "info = db_handler.get_info()\n",
    "info"
   ]
  },
  {
   "cell_type": "code",
   "execution_count": null,
   "metadata": {},
   "outputs": [],
   "source": [
    "%run visualizer.py\n",
    "plot_captcha_info(info, figsize=(4,10))"
   ]
  },
  {
   "cell_type": "code",
   "execution_count": 41,
   "metadata": {},
   "outputs": [
    {
     "name": "stdout",
     "output_type": "stream",
     "text": [
      "Training model on bonsai tree...\n",
      "x shape: (300, 3, 128, 128)\n",
      "y shape: (300, 1)\n",
      "train size: 225, test size: 75\n",
      "single element shape: torch.Size([3, 128, 128])\n",
      "Epoch: 1, Test Loss: 0.0078, Accuracy: 56/75, 74.67%\n",
      "Epoch: 2, Test Loss: 0.0076, Accuracy: 56/75, 74.67%\n",
      "Epoch: 3, Test Loss: 0.0075, Accuracy: 56/75, 74.67%\n",
      "Epoch: 4, Test Loss: 0.0073, Accuracy: 56/75, 74.67%\n",
      "Epoch: 5, Test Loss: 0.0067, Accuracy: 56/75, 74.67%\n",
      "Epoch: 6, Test Loss: 0.0062, Accuracy: 65/75, 86.67%\n",
      "Epoch: 7, Test Loss: 0.0058, Accuracy: 57/75, 76.00%\n",
      "Epoch: 8, Test Loss: 0.0045, Accuracy: 66/75, 88.00%\n",
      "Epoch: 9, Test Loss: 0.0044, Accuracy: 65/75, 86.67%\n",
      "Epoch: 10, Test Loss: 0.0040, Accuracy: 68/75, 90.67%\n",
      "Epoch: 11, Test Loss: 0.0039, Accuracy: 67/75, 89.33%\n",
      "Epoch: 12, Test Loss: 0.0045, Accuracy: 62/75, 82.67%\n",
      "Epoch: 13, Test Loss: 0.0040, Accuracy: 64/75, 85.33%\n",
      "Epoch: 14, Test Loss: 0.0039, Accuracy: 67/75, 89.33%\n",
      "Epoch: 15, Test Loss: 0.0042, Accuracy: 64/75, 85.33%\n",
      "Epoch: 16, Test Loss: 0.0041, Accuracy: 67/75, 89.33%\n",
      "Epoch: 17, Test Loss: 0.0039, Accuracy: 68/75, 90.67%\n",
      "Epoch: 18, Test Loss: 0.0041, Accuracy: 69/75, 92.00%\n",
      "Epoch: 19, Test Loss: 0.0042, Accuracy: 69/75, 92.00%\n",
      "Epoch: 20, Test Loss: 0.0042, Accuracy: 69/75, 92.00%\n",
      "Epoch: 21, Test Loss: 0.0044, Accuracy: 70/75, 93.33%\n",
      "Epoch: 22, Test Loss: 0.0048, Accuracy: 66/75, 88.00%\n",
      "Epoch: 23, Test Loss: 0.0046, Accuracy: 70/75, 93.33%\n",
      "Epoch: 24, Test Loss: 0.0045, Accuracy: 68/75, 90.67%\n",
      "Early stopping at epoch 24\n",
      "Saved model to ../data/models/bonsai tree/23-224_02\n"
     ]
    }
   ],
   "source": [
    "%run pytorch_training.py\n",
    "train_model_on_captcha_string(db_handler, \"bonsai tree\", save=True)\n",
    "# train_models_on_all_captcha_strings(db_handler, threshold=100)"
   ]
  },
  {
   "cell_type": "code",
   "execution_count": 42,
   "metadata": {},
   "outputs": [
    {
     "name": "stdout",
     "output_type": "stream",
     "text": [
      "Testing 23-224_02 on bonsai tree...\n",
      "Correct: 280/300, Accuracy: 93.33%\n",
      "Testing 23-224_2 on car...\n",
      "Correct: 354/359, Accuracy: 98.61%\n",
      "Testing 23-224_02 on flower...\n",
      "Correct: 460/464, Accuracy: 99.14%\n",
      "Testing 23-224_01 on helicopter...\n",
      "Correct: 221/242, Accuracy: 91.32%\n",
      "Testing 23-224_01 on laptop...\n",
      "Correct: 286/303, Accuracy: 94.39%\n",
      "Testing 23-224_01 on motorcycle...\n",
      "Correct: 306/309, Accuracy: 99.03%\n",
      "Testing 23-224_01 on tree...\n",
      "Correct: 289/294, Accuracy: 98.30%\n"
     ]
    },
    {
     "data": {
      "image/png": "[encoded data removed]",
      "text/plain": [
       "<Figure size 1000x400 with 1 Axes>"
      ]
     },
     "metadata": {},
     "output_type": "display_data"
    }
   ],
   "source": [
    "%run pytorch_training.py\n",
    "model_accuracy = test_models_on_all_captcha_strings(db_handler)\n",
    "%run visualizer.py\n",
    "plot_model_accuracy(model_accuracy, figsize=(4,10))"
   ]
  },
  {
   "cell_type": "code",
   "execution_count": null,
   "metadata": {},
   "outputs": [],
   "source": [
    "assert 1 == 0 # to avoid execution of code below"
   ]
  },
  {
   "cell_type": "code",
   "execution_count": null,
   "metadata": {},
   "outputs": [],
   "source": [
    "%run collector/collector.py\n",
    "urls = [\n",
    "    \"https://nopecha.com/demo/hcaptcha\",\n",
    "    \"https://democaptcha.com/demo-form-eng/hcaptcha.html\",\n",
    "    \"https://freebitco.in/signup/?op=s\", \n",
    "    \"https://accounts.shopify.com/signup?rid=f8d4b2e6-f0fe-41ab-83e5-e633974bd42b&signup_strategy=password\",\n",
    "    \"https://www.dierenkliniekoudorp.nl/\",\n",
    "    \"https://cellar335.com/\",\n",
    "    \"https://www.salumificiovecchi.it/\",\n",
    "    \"https://economygarages.com/\",\n",
    "    \"https://www.assimilationdesigns.com/\"\n",
    "    \"https://raleighvehiclewraps.com/\"\n",
    "    ]\n",
    "collect_data(db_handler, urls[0], count=100, collect_v2=False)"
   ]
  },
  {
   "cell_type": "code",
   "execution_count": null,
   "metadata": {},
   "outputs": [],
   "source": [
    "%run manual_classifier.py\n",
    "mc = Manual_Classifier(db_handler)"
   ]
  },
  {
   "cell_type": "code",
   "execution_count": null,
   "metadata": {},
   "outputs": [],
   "source": [
    "%run vilt.py\n",
    "vilt = Vilt_Classifier()"
   ]
  },
  {
   "cell_type": "code",
   "execution_count": null,
   "metadata": {},
   "outputs": [],
   "source": [
    "vilt_accuracy = pd.concat((info, vilt.get_accuracy_for_all_captchas(db_handler)), axis=1)\n",
    "plot_model_accuracy(vilt_accuracy, figsize=(4,10))"
   ]
  }
 ],
 "metadata": {
  "kernelspec": {
   "display_name": "Python 3",
   "language": "python",
   "name": "python3"
  },
  "language_info": {
   "codemirror_mode": {
    "name": "ipython",
    "version": 3
   },
   "file_extension": ".py",
   "mimetype": "text/x-python",
   "name": "python",
   "nbconvert_exporter": "python",
   "pygments_lexer": "ipython3",
   "version": "3.11.4"
  },
  "orig_nbformat": 4
 },
 "nbformat": 4,
 "nbformat_minor": 2
}
